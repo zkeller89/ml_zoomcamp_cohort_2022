{
 "cells": [
  {
   "cell_type": "code",
   "execution_count": 46,
   "id": "0159417d-ea71-4f3e-8152-91fea898f0bd",
   "metadata": {},
   "outputs": [],
   "source": [
    "import os\n",
    "\n",
    "import pandas as pd\n",
    "import numpy as np\n",
    "import seaborn as sns\n",
    "\n",
    "import matplotlib.pyplot as plt\n",
    "\n",
    "from sklearn.model_selection import train_test_split\n",
    "from sklearn.feature_extraction import DictVectorizer\n",
    "from sklearn.metrics import mean_squared_error\n",
    "from sklearn.tree import DecisionTreeRegressor, export_text\n",
    "from sklearn.ensemble import RandomForestRegressor\n",
    "\n"
   ]
  },
  {
   "cell_type": "markdown",
   "id": "0ad00867-25ef-4579-ad26-f9eab78e3c2f",
   "metadata": {},
   "source": [
    "## Homework\n",
    "\n",
    "The goal of this homework is to create a regression model for predicting housing prices (column 'median_house_value').  \n",
    "\n",
    "In this homework we'll again use the California Housing Prices dataset - the same one we used in homework 2 and 3.\n",
    "\n",
    "You can take it from [Kaggle](https://www.kaggle.com/datasets/camnugent/california-housing-prices) or download using wget link mentioned below:\n",
    "\n",
    "```\n",
    "wget https://raw.githubusercontent.com/alexeygrigorev/datasets/master/housing.csv\n",
    "\n",
    "```"
   ]
  },
  {
   "cell_type": "code",
   "execution_count": 3,
   "id": "acff90cd-1373-4d87-b322-86913435b879",
   "metadata": {},
   "outputs": [
    {
     "name": "stdout",
     "output_type": "stream",
     "text": [
      "--2022-10-17 03:40:52--  https://raw.githubusercontent.com/alexeygrigorev/datasets/master/housing.csv\n",
      "Resolving raw.githubusercontent.com (raw.githubusercontent.com)... 185.199.108.133, 185.199.109.133, 185.199.110.133, ...\n",
      "Connecting to raw.githubusercontent.com (raw.githubusercontent.com)|185.199.108.133|:443... connected.\n",
      "HTTP request sent, awaiting response... 200 OK\n",
      "Length: 1423529 (1.4M) [text/plain]\n",
      "Saving to: ‘housing.csv’\n",
      "\n",
      "housing.csv         100%[===================>]   1.36M  --.-KB/s    in 0.06s   \n",
      "\n",
      "2022-10-17 03:40:52 (24.1 MB/s) - ‘housing.csv’ saved [1423529/1423529]\n",
      "\n"
     ]
    }
   ],
   "source": [
    "if not os.path.isfile('housing.csv'):\n",
    "    !wget https://raw.githubusercontent.com/alexeygrigorev/datasets/master/housing.csv"
   ]
  },
  {
   "cell_type": "markdown",
   "id": "1b70404e-c903-4100-8a6a-9f30ce10d3a2",
   "metadata": {},
   "source": [
    "> Note: sometimes your answer doesn't match one of the options exactly. That's fine. \n",
    "Select the option that's closest to your solution.\n",
    "\n",
    "\n",
    "## Loading the data\n",
    "\n",
    "Use only the following columns:  \n",
    "* `'latitude'`,\n",
    "* `'longitude'`,\n",
    "* `'housing_median_age'`,\n",
    "* `'total_rooms'`,\n",
    "* `'total_bedrooms'`,\n",
    "* `'population'`,\n",
    "* `'households'`,\n",
    "* `'median_income'`,\n",
    "* `'median_house_value'`,\n",
    "* `'ocean_proximity'`  \n",
    "\n",
    "* Fill NAs with 0.\n",
    "* Apply the log tranform to `median_house_value`.\n",
    "* Do train/validation/test split with 60%/20%/20% distribution. \n",
    "* Use the `train_test_split` function and set the `random_state` parameter to 1.\n",
    "* Use `DictVectorizer` to turn the dataframe into matrices."
   ]
  },
  {
   "cell_type": "code",
   "execution_count": 4,
   "id": "04cae598-7b92-4d8e-bf80-6266a6950ae4",
   "metadata": {},
   "outputs": [],
   "source": [
    "raw = pd.read_csv('housing.csv')\n",
    "columns = [\n",
    "    'latitude',\n",
    "    'longitude',\n",
    "    'housing_median_age',\n",
    "    'total_rooms',\n",
    "    'total_bedrooms',\n",
    "    'population',\n",
    "    'households',\n",
    "    'median_income',\n",
    "    'median_house_value',\n",
    "    'ocean_proximity'\n",
    "]\n",
    "\n",
    "df = raw[columns]\n",
    "df = df.fillna(value=0)\n",
    "df['median_house_value'] = np.log(df.median_house_value)"
   ]
  },
  {
   "cell_type": "code",
   "execution_count": 5,
   "id": "867ca479-bb58-46b5-9f6f-56b1ebf27ef3",
   "metadata": {},
   "outputs": [],
   "source": [
    "full_train, test = train_test_split(df, train_size=0.8, random_state=1)\n",
    "train, val = train_test_split(full_train, train_size = 0.75, random_state=1)"
   ]
  },
  {
   "cell_type": "code",
   "execution_count": 23,
   "id": "4387c9d6-ed9c-453c-8516-8b1883b7d78e",
   "metadata": {},
   "outputs": [],
   "source": [
    "dfs = [train, val, test]\n",
    "\n",
    "train_y, val_y, test_y = [dat.median_house_value for dat in dfs] \n",
    "\n",
    "df_x = df.drop('median_house_value', axis=1)\n",
    "\n",
    "DV = DictVectorizer(sparse=False)\n",
    "DV.fit(df_x.to_dict(orient='records'))\n",
    "\n",
    "train_x, val_x, test_x = [DV.transform(dat.to_dict(orient='records')) for dat in dfs]"
   ]
  },
  {
   "cell_type": "markdown",
   "id": "60993ce8-7344-4cfd-923e-8e1839041c9a",
   "metadata": {},
   "source": [
    "## Question 1\n",
    "\n",
    "Let's train a decision tree regressor to predict the `median_house_value` variable. \n",
    "\n",
    "* Train a model with `max_depth=1`.\n",
    "\n",
    "\n",
    "Which feature is used for splitting the data?\n",
    "\n",
    "* `ocean_proximity=INLAND`\n",
    "* `total_rooms`\n",
    "* `latitude`\n",
    "* `population`"
   ]
  },
  {
   "cell_type": "code",
   "execution_count": 25,
   "id": "8e69b90c-e2cf-4949-8ab7-338017d68672",
   "metadata": {},
   "outputs": [
    {
     "name": "stdout",
     "output_type": "stream",
     "text": [
      "|--- ocean_proximity=INLAND <= 0.50\n",
      "|   |--- value: [12.31]\n",
      "|--- ocean_proximity=INLAND >  0.50\n",
      "|   |--- value: [11.61]\n",
      "\n"
     ]
    }
   ],
   "source": [
    "MAX_DEPTH = 1\n",
    "dt = DecisionTreeRegressor(max_depth=MAX_DEPTH)\n",
    "dt.fit(train_x, train_y)\n",
    "\n",
    "print(export_text(dt, feature_names=DV.get_feature_names_out().tolist()))"
   ]
  },
  {
   "cell_type": "markdown",
   "id": "4c8f8905-7a28-49f5-9aa0-1375847ede87",
   "metadata": {},
   "source": [
    "## Question 2\n",
    "\n",
    "Train a random forest model with these parameters:\n",
    "\n",
    "* `n_estimators=10`\n",
    "* `random_state=1`\n",
    "* `n_jobs=-1`  (optional - to make training faster)\n",
    "\n",
    "\n",
    "What's the RMSE of this model on validation?\n",
    "\n",
    "* 0.05\n",
    "* 0.25\n",
    "* 0.55\n",
    "* 0.85"
   ]
  },
  {
   "cell_type": "code",
   "execution_count": 30,
   "id": "7b4201ec-9150-40c0-bbaf-6e4b650baa9e",
   "metadata": {},
   "outputs": [
    {
     "name": "stdout",
     "output_type": "stream",
     "text": [
      "RMSE: 0.2453508692239376\n"
     ]
    }
   ],
   "source": [
    "N_ESTIMATORS = 10\n",
    "RANDOM_STATE = 1\n",
    "N_JOBS = 1\n",
    "\n",
    "rf = RandomForestRegressor(n_estimators=N_ESTIMATORS, random_state=RANDOM_STATE)\n",
    "rf.fit(train_x, train_y)\n",
    "\n",
    "rf_val_preds = rf.predict(val_x)\n",
    "rmse = mean_squared_error(val_y, rf_val_preds, squared=False)\n",
    "\n",
    "print(f'RMSE: {rmse}')"
   ]
  },
  {
   "cell_type": "markdown",
   "id": "cc9490c6-4f09-4d20-ad9a-5cc5504abce5",
   "metadata": {},
   "source": [
    "## Question 3\n",
    "\n",
    "Now let's experiment with the `n_estimators` parameter\n",
    "\n",
    "* Try different values of this parameter from 10 to 200 with step 10.\n",
    "* Set `random_state` to `1`.\n",
    "* Evaluate the model on the validation dataset.\n",
    "\n",
    "\n",
    "After which value of `n_estimators` does RMSE stop improving?\n",
    "\n",
    "- 10\n",
    "- 50\n",
    "- 70\n",
    "- 150"
   ]
  },
  {
   "cell_type": "code",
   "execution_count": 45,
   "id": "f9686b18-5521-4e82-bb13-60248dc3fb79",
   "metadata": {},
   "outputs": [],
   "source": [
    "def train_rf_and_get_rmse(n_estimators, max_depth=None):\n",
    "    rf = RandomForestRegressor(n_estimators=n_estimators, max_depth=max_depth, random_state=RANDOM_STATE)\n",
    "    rf.fit(train_x, train_y, n_jobs=-1)\n",
    "\n",
    "    rf_val_preds = rf.predict(val_x)\n",
    "    rmse = mean_squared_error(val_y, rf_val_preds, squared=False)\n",
    "    return rmse\n",
    "\n",
    "res = []\n",
    "for n_estimators in range(10, 210, 10):\n",
    "    rmse = train_rf_and_get_rmse(n_estimators)\n",
    "    res.append({\n",
    "        'n_estimators': n_estimators,\n",
    "        'rmse': rmse\n",
    "    })"
   ]
  },
  {
   "cell_type": "code",
   "execution_count": 47,
   "id": "57b011f0-620f-44a0-be1b-11c65f09ab6a",
   "metadata": {},
   "outputs": [
    {
     "data": {
      "text/plain": [
       "<matplotlib.collections.LineCollection at 0x7f7aa86c5fa0>"
      ]
     },
     "execution_count": 47,
     "metadata": {},
     "output_type": "execute_result"
    },
    {
     "data": {
      "image/png": "[encoded data removed]",
      "text/plain": [
       "<Figure size 432x288 with 1 Axes>"
      ]
     },
     "metadata": {
      "needs_background": "light"
     },
     "output_type": "display_data"
    }
   ],
   "source": [
    "df_rmse = pd.DataFrame.from_records(res)\n",
    "plt.plot(df_rmse.n_estimators, df_rmse.rmse)\n",
    "plt.vlines([10, 50, 70, 150], ymin=df_rmse.rmse.min(), ymax=df_rmse.rmse.max(), colors='red')"
   ]
  },
  {
   "cell_type": "markdown",
   "id": "a5f7a966-cedc-445e-acc8-53e693f1f38b",
   "metadata": {},
   "source": [
    "## Question 4\n",
    "\n",
    "Let's select the best `max_depth`:\n",
    "\n",
    "* Try different values of `max_depth`: `[10, 15, 20, 25]`\n",
    "* For each of these values, try different values of `n_estimators` from 10 till 200 (with step 10)\n",
    "* Fix the random seed: `random_state=1`\n",
    "\n",
    "\n",
    "What's the best `max_depth`:\n",
    "\n",
    "* 10\n",
    "* 15\n",
    "* 20\n",
    "* 25"
   ]
  },
  {
   "cell_type": "code",
   "execution_count": 49,
   "id": "551963c8-9e0b-411c-bbcc-b2ce11ac375d",
   "metadata": {},
   "outputs": [],
   "source": [
    "MAX_DEPTHS = [10, 15, 20, 25]\n",
    "N_ESTIMATORS = range(10, 201, 10)\n",
    "RANDOM_STATE = 1\n",
    "\n",
    "grid_res = []\n",
    "for md in MAX_DEPTHS:\n",
    "    for ne in N_ESTIMATORS:\n",
    "        rmse = train_rf_and_get_rmse(n_estimators=ne, max_depth=md)\n",
    "        grid_res.append({\n",
    "            'n_estimators': ne,\n",
    "            'max_depth': md,\n",
    "            'rmse': rmse\n",
    "        })"
   ]
  },
  {
   "cell_type": "code",
   "execution_count": 57,
   "id": "625b2f69-cdad-4ff3-b749-d64dde644611",
   "metadata": {},
   "outputs": [],
   "source": [
    "gred_res_df = pd.DataFrame.from_records(grid_res)\n",
    "grid_res_pivot = gred_res_df.pivot(index='n_estimators', columns=['max_depth'], values=['rmse'])"
   ]
  },
  {
   "cell_type": "code",
   "execution_count": 114,
   "id": "2c84e77f-a8af-40f9-b184-2e3d1f521168",
   "metadata": {},
   "outputs": [
    {
     "data": {
      "text/html": [
       "<div>\n",
       "<style scoped>\n",
       "    .dataframe tbody tr th:only-of-type {\n",
       "        vertical-align: middle;\n",
       "    }\n",
       "\n",
       "    .dataframe tbody tr th {\n",
       "        vertical-align: top;\n",
       "    }\n",
       "\n",
       "    .dataframe thead th {\n",
       "        text-align: right;\n",
       "    }\n",
       "</style>\n",
       "<table border=\"1\" class=\"dataframe\">\n",
       "  <thead>\n",
       "    <tr style=\"text-align: right;\">\n",
       "      <th></th>\n",
       "      <th>max_depth</th>\n",
       "      <th>rmse</th>\n",
       "    </tr>\n",
       "  </thead>\n",
       "  <tbody>\n",
       "    <tr>\n",
       "      <th>3</th>\n",
       "      <td>25</td>\n",
       "      <td>0.233416</td>\n",
       "    </tr>\n",
       "    <tr>\n",
       "      <th>2</th>\n",
       "      <td>20</td>\n",
       "      <td>0.233448</td>\n",
       "    </tr>\n",
       "    <tr>\n",
       "      <th>1</th>\n",
       "      <td>15</td>\n",
       "      <td>0.235039</td>\n",
       "    </tr>\n",
       "    <tr>\n",
       "      <th>0</th>\n",
       "      <td>10</td>\n",
       "      <td>0.250041</td>\n",
       "    </tr>\n",
       "  </tbody>\n",
       "</table>\n",
       "</div>"
      ],
      "text/plain": [
       "   max_depth      rmse\n",
       "3         25  0.233416\n",
       "2         20  0.233448\n",
       "1         15  0.235039\n",
       "0         10  0.250041"
      ]
     },
     "execution_count": 114,
     "metadata": {},
     "output_type": "execute_result"
    }
   ],
   "source": [
    "grid_res_pivot.agg(np.mean) \\\n",
    "    .reset_index(level=0, drop=True) \\\n",
    "    .reset_index() \\\n",
    "    .rename(columns={0: 'rmse'}) \\\n",
    "    .sort_values('rmse', ascending=True)"
   ]
  },
  {
   "cell_type": "code",
   "execution_count": 56,
   "id": "7de53dc7-9fe1-423c-b32f-fdca9988edc1",
   "metadata": {},
   "outputs": [
    {
     "data": {
      "image/png": "[encoded data removed]",
      "text/plain": [
       "<Figure size 842.4x595.44 with 2 Axes>"
      ]
     },
     "metadata": {},
     "output_type": "display_data"
    }
   ],
   "source": [
    "sns.set(rc={'figure.figsize':(11.7,8.27)})\n",
    "hm = sns.heatmap(grid_res_pivot.round(3), annot=True, fmt='.3f')\n",
    "hm.set(xlabel='Max Depth', ylabel='N Estimators')\n",
    "plt.show()"
   ]
  },
  {
   "cell_type": "markdown",
   "id": "04da9fa6-280a-4313-a315-7c04a26a58d6",
   "metadata": {},
   "source": [
    "# Question 5\n",
    "\n",
    "We can exfrom_recordsture importance information from tree-based models. \n",
    "\n",
    "At each step of the decision tree learning algorithm, it finds the best split. \n",
    "When doint it, we can calculate \"gain\" - the reduction in impurity before and after the split. \n",
    "This gain is quite useful in understanding what are the imporatant features \n",
    "for tree-based models.\n",
    "\n",
    "In Scikit-Learn, tree-based models contain this information in the\n",
    "[`feature_importances_`](https://scikit-learn.org/stable/modules/generated/sklearn.ensemble.RandomForestRegressor.html#sklearn.ensemble.RandomForestRegressor.feature_importances_)\n",
    "field. \n",
    "\n",
    "For this homework question, we'll find the most important feature:\n",
    "\n",
    "* Train the model with these parametes:\n",
    "    * `n_estimators=10`,\n",
    "    * `max_depth=20`,\n",
    "    * `random_state=1`,\n",
    "    * `n_jobs=-1` (optional)\n",
    "* Get the feature importance information from this model\n",
    "\n",
    "\n",
    "What's the most important feature? \n",
    "\n",
    "* `total_rooms`\n",
    "* `median_income`\t\n",
    "* `total_bedrooms`\n",
    "* `longitude`"
   ]
  },
  {
   "cell_type": "code",
   "execution_count": null,
   "id": "ac367270-9ccd-4d34-8d54-f52cd6be22ac",
   "metadata": {},
   "outputs": [],
   "source": [
    "MD = 20\n",
    "NE = 10\n",
    "RS = 1\n",
    "NJ = -1\n",
    "\n",
    "rf = RandomForestRegressor(n_estimators=NE, max_depth=MD, random_state=RS, num_jobs=NJ)\n",
    "rm.forest.feature_importances_"
   ]
  },
  {
   "cell_type": "markdown",
   "id": "862901be-2fd0-49ac-9b79-0e8eb0655deb",
   "metadata": {},
   "source": [
    "## Question 6\n",
    "\n",
    "Now let's train an XGBoost model! For this question, we'll tune the `eta` parameter:\n",
    "\n",
    "* Install XGBoost\n",
    "* Create DMatrix for train and validation\n",
    "* Create a watchlist\n",
    "* Train a model with these parameters for 100 rounds:\n",
    "\n",
    "```\n",
    "xgb_params = {\n",
    "    'eta': 0.3, \n",
    "    'max_depth': 6,\n",
    "    'min_child_weight': 1,\n",
    "    \n",
    "    'objective': 'reg:squarederror',\n",
    "    'nthread': 8,\n",
    "    \n",
    "    'seed': 1,\n",
    "    'verbosity': 1,\n",
    "}\n",
    "```\n",
    "\n",
    "Now change `eta` from `0.3` to `0.1`.\n",
    "\n",
    "Which eta leads to the best RMSE score on the validation dataset?\n",
    "\n",
    "* 0.3\n",
    "* 0.1\n",
    "* Both gives same"
   ]
  },
  {
   "cell_type": "markdown",
   "id": "9e75a12c-ce6f-479a-95f6-e265920b9531",
   "metadata": {},
   "source": [
    "## Submit the results\n",
    "\n",
    "* Submit your results here: https://forms.gle/3yMSuQ4BeNuZFHTU8\n",
    "* You can submit your solution multiple times. In this case, only the last submission will be used \n",
    "* If your answer doesn't match options exactly, select the closest one\n",
    "\n",
    "\n",
    "## Deadline\n",
    "\n",
    "The deadline for submitting is 17 October (Monday), 23:00 CEST.\n",
    "\n",
    "After that, the form will be closed.\n",
    "\n"
   ]
  },
  {
   "cell_type": "code",
   "execution_count": null,
   "id": "26c9f50c-be14-4ded-8845-91e4478c28ec",
   "metadata": {},
   "outputs": [],
   "source": []
  }
 ],
 "metadata": {
  "kernelspec": {
   "display_name": "Python 3 (ipykernel)",
   "language": "python",
   "name": "python3"
  },
  "language_info": {
   "codemirror_mode": {
    "name": "ipython",
    "version": 3
   },
   "file_extension": ".py",
   "mimetype": "text/x-python",
   "name": "python",
   "nbconvert_exporter": "python",
   "pygments_lexer": "ipython3",
   "version": "3.9.12"
  }
 },
 "nbformat": 4,
 "nbformat_minor": 5
}
