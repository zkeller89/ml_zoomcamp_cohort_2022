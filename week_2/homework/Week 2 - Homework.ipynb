{
 "cells": [
  {
   "cell_type": "code",
   "execution_count": 1,
   "id": "b5095f45",
   "metadata": {},
   "outputs": [],
   "source": [
    "import os\n",
    "\n",
    "import pandas as pd\n",
    "import numpy as np\n",
    "import matplotlib.pyplot as plt\n",
    "import seaborn as sns\n",
    "\n",
    "%matplotlib inline"
   ]
  },
  {
   "cell_type": "markdown",
   "id": "19611b44",
   "metadata": {},
   "source": [
    "## Homework\n",
    "\n",
    "### Dataset\n",
    "\n",
    "In this homework, we will use the California Housing Prices from [Kaggle](https://www.kaggle.com/datasets/camnugent/california-housing-prices).\n",
    "\n",
    "Here's a wget-able [link](https://raw.githubusercontent.com/alexeygrigorev/datasets/master/housing.csv):\n",
    "\n",
    "```bash\n",
    "wget https://raw.githubusercontent.com/alexeygrigorev/datasets/master/housing.csv\n",
    "```\n",
    "\n",
    "The goal of this homework is to create a regression model for predicting housing prices (column `'median_house_value'`)."
   ]
  },
  {
   "cell_type": "code",
   "execution_count": 2,
   "id": "40419375",
   "metadata": {},
   "outputs": [],
   "source": [
    "if not os.path.isfile('housing.csv'):\n",
    "    !wget https://raw.githubusercontent.com/alexeygrigorev/datasets/master/housing.csv"
   ]
  },
  {
   "cell_type": "markdown",
   "id": "e2dae535",
   "metadata": {},
   "source": [
    "### EDA\n",
    "\n",
    "* Load the data.\n",
    "* Look at the `median_house_value` variable. Does it have a long tail? "
   ]
  },
  {
   "cell_type": "code",
   "execution_count": 3,
   "id": "33476414",
   "metadata": {},
   "outputs": [
    {
     "data": {
      "text/html": [
       "<div>\n",
       "<style scoped>\n",
       "    .dataframe tbody tr th:only-of-type {\n",
       "        vertical-align: middle;\n",
       "    }\n",
       "\n",
       "    .dataframe tbody tr th {\n",
       "        vertical-align: top;\n",
       "    }\n",
       "\n",
       "    .dataframe thead th {\n",
       "        text-align: right;\n",
       "    }\n",
       "</style>\n",
       "<table border=\"1\" class=\"dataframe\">\n",
       "  <thead>\n",
       "    <tr style=\"text-align: right;\">\n",
       "      <th></th>\n",
       "      <th>longitude</th>\n",
       "      <th>latitude</th>\n",
       "      <th>housing_median_age</th>\n",
       "      <th>total_rooms</th>\n",
       "      <th>total_bedrooms</th>\n",
       "      <th>population</th>\n",
       "      <th>households</th>\n",
       "      <th>median_income</th>\n",
       "      <th>median_house_value</th>\n",
       "      <th>ocean_proximity</th>\n",
       "    </tr>\n",
       "  </thead>\n",
       "  <tbody>\n",
       "    <tr>\n",
       "      <th>0</th>\n",
       "      <td>-122.23</td>\n",
       "      <td>37.88</td>\n",
       "      <td>41.0</td>\n",
       "      <td>880.0</td>\n",
       "      <td>129.0</td>\n",
       "      <td>322.0</td>\n",
       "      <td>126.0</td>\n",
       "      <td>8.3252</td>\n",
       "      <td>452600.0</td>\n",
       "      <td>NEAR BAY</td>\n",
       "    </tr>\n",
       "    <tr>\n",
       "      <th>1</th>\n",
       "      <td>-122.22</td>\n",
       "      <td>37.86</td>\n",
       "      <td>21.0</td>\n",
       "      <td>7099.0</td>\n",
       "      <td>1106.0</td>\n",
       "      <td>2401.0</td>\n",
       "      <td>1138.0</td>\n",
       "      <td>8.3014</td>\n",
       "      <td>358500.0</td>\n",
       "      <td>NEAR BAY</td>\n",
       "    </tr>\n",
       "    <tr>\n",
       "      <th>2</th>\n",
       "      <td>-122.24</td>\n",
       "      <td>37.85</td>\n",
       "      <td>52.0</td>\n",
       "      <td>1467.0</td>\n",
       "      <td>190.0</td>\n",
       "      <td>496.0</td>\n",
       "      <td>177.0</td>\n",
       "      <td>7.2574</td>\n",
       "      <td>352100.0</td>\n",
       "      <td>NEAR BAY</td>\n",
       "    </tr>\n",
       "    <tr>\n",
       "      <th>3</th>\n",
       "      <td>-122.25</td>\n",
       "      <td>37.85</td>\n",
       "      <td>52.0</td>\n",
       "      <td>1274.0</td>\n",
       "      <td>235.0</td>\n",
       "      <td>558.0</td>\n",
       "      <td>219.0</td>\n",
       "      <td>5.6431</td>\n",
       "      <td>341300.0</td>\n",
       "      <td>NEAR BAY</td>\n",
       "    </tr>\n",
       "    <tr>\n",
       "      <th>4</th>\n",
       "      <td>-122.25</td>\n",
       "      <td>37.85</td>\n",
       "      <td>52.0</td>\n",
       "      <td>1627.0</td>\n",
       "      <td>280.0</td>\n",
       "      <td>565.0</td>\n",
       "      <td>259.0</td>\n",
       "      <td>3.8462</td>\n",
       "      <td>342200.0</td>\n",
       "      <td>NEAR BAY</td>\n",
       "    </tr>\n",
       "  </tbody>\n",
       "</table>\n",
       "</div>"
      ],
      "text/plain": [
       "   longitude  latitude  housing_median_age  total_rooms  total_bedrooms  \\\n",
       "0    -122.23     37.88                41.0        880.0           129.0   \n",
       "1    -122.22     37.86                21.0       7099.0          1106.0   \n",
       "2    -122.24     37.85                52.0       1467.0           190.0   \n",
       "3    -122.25     37.85                52.0       1274.0           235.0   \n",
       "4    -122.25     37.85                52.0       1627.0           280.0   \n",
       "\n",
       "   population  households  median_income  median_house_value ocean_proximity  \n",
       "0       322.0       126.0         8.3252            452600.0        NEAR BAY  \n",
       "1      2401.0      1138.0         8.3014            358500.0        NEAR BAY  \n",
       "2       496.0       177.0         7.2574            352100.0        NEAR BAY  \n",
       "3       558.0       219.0         5.6431            341300.0        NEAR BAY  \n",
       "4       565.0       259.0         3.8462            342200.0        NEAR BAY  "
      ]
     },
     "execution_count": 3,
     "metadata": {},
     "output_type": "execute_result"
    }
   ],
   "source": [
    "raw = pd.read_csv('housing.csv')\n",
    "raw.head(5)"
   ]
  },
  {
   "cell_type": "code",
   "execution_count": 4,
   "id": "d38bb692",
   "metadata": {},
   "outputs": [
    {
     "data": {
      "text/plain": [
       "<AxesSubplot:xlabel='median_house_value', ylabel='Count'>"
      ]
     },
     "execution_count": 4,
     "metadata": {},
     "output_type": "execute_result"
    },
    {
     "data": {
      "image/png": "[encoded data removed]",
      "text/plain": [
       "<Figure size 640x480 with 1 Axes>"
      ]
     },
     "metadata": {},
     "output_type": "display_data"
    }
   ],
   "source": [
    "sns.histplot(raw.median_house_value, bins=50)"
   ]
  },
  {
   "cell_type": "markdown",
   "id": "a022388c",
   "metadata": {},
   "source": [
    "Yes it does look like the `median_house_value` has a long tail, possibly truncated at 500,000"
   ]
  },
  {
   "cell_type": "markdown",
   "id": "ba6a4ab9",
   "metadata": {},
   "source": [
    "### Features\n",
    "\n",
    "For the rest of the homework, you'll need to use only these columns:\n",
    "\n",
    "* `'latitude'`,\n",
    "* `'longitude'`,\n",
    "* `'housing_median_age'`,\n",
    "* `'total_rooms'`,\n",
    "* `'total_bedrooms'`,\n",
    "* `'population'`,\n",
    "* `'households'`,\n",
    "* `'median_income'`,\n",
    "* `'median_house_value'`\n",
    "\n",
    "Select only them."
   ]
  },
  {
   "cell_type": "code",
   "execution_count": 5,
   "id": "6b30da01",
   "metadata": {},
   "outputs": [],
   "source": [
    "cols = [\n",
    "    'latitude',\n",
    "    'longitude',\n",
    "    'housing_median_age',\n",
    "    'total_rooms',\n",
    "    'total_bedrooms',\n",
    "    'population',\n",
    "    'households',\n",
    "    'median_income',\n",
    "    'median_house_value'   \n",
    "]\n",
    "\n",
    "df = raw[cols]"
   ]
  },
  {
   "cell_type": "markdown",
   "id": "986abeb2",
   "metadata": {},
   "source": [
    "### Question 1\n",
    "\n",
    "Find a feature with missing values. How many missing values does it have?\n",
    "- 207\n",
    "- 307\n",
    "- 408\n",
    "- 508"
   ]
  },
  {
   "cell_type": "code",
   "execution_count": 6,
   "id": "394cd5ff",
   "metadata": {},
   "outputs": [
    {
     "data": {
      "text/plain": [
       "latitude                0\n",
       "longitude               0\n",
       "housing_median_age      0\n",
       "total_rooms             0\n",
       "total_bedrooms        207\n",
       "population              0\n",
       "households              0\n",
       "median_income           0\n",
       "median_house_value      0\n",
       "dtype: int64"
      ]
     },
     "execution_count": 6,
     "metadata": {},
     "output_type": "execute_result"
    }
   ],
   "source": [
    "df.apply(lambda x: sum(pd.isna(x)), axis = 0)"
   ]
  },
  {
   "cell_type": "markdown",
   "id": "e7404770",
   "metadata": {},
   "source": [
    "207 missing values in `total_bedrooms`"
   ]
  },
  {
   "cell_type": "markdown",
   "id": "b362046e",
   "metadata": {},
   "source": [
    "### Question 2\n",
    "\n",
    "What's the median (50% percentile) for variable 'population'?\n",
    "- 1133\n",
    "- 1122\n",
    "- 1166\n",
    "- 1188"
   ]
  },
  {
   "cell_type": "code",
   "execution_count": 7,
   "id": "a16ae97f",
   "metadata": {},
   "outputs": [
    {
     "data": {
      "text/plain": [
       "1166.0"
      ]
     },
     "execution_count": 7,
     "metadata": {},
     "output_type": "execute_result"
    }
   ],
   "source": [
    "df.population.median()"
   ]
  },
  {
   "cell_type": "markdown",
   "id": "af969822",
   "metadata": {},
   "source": [
    "### Split the data\n",
    "\n",
    "* Shuffle the initial dataset, use seed `42`.\n",
    "* Split your data in train/val/test sets, with 60%/20%/20% distribution.\n",
    "* Make sure that the target value ('median_house_value') is not in your dataframe.\n",
    "* Apply the log transformation to the median_house_value variable using the `np.log1p()` function."
   ]
  },
  {
   "cell_type": "code",
   "execution_count": 8,
   "id": "b4324337",
   "metadata": {},
   "outputs": [],
   "source": [
    "n = df.shape[0]\n",
    "np.random.seed(42)\n",
    "idx = np.arange(n)\n",
    "np.random.shuffle(idx)"
   ]
  },
  {
   "cell_type": "code",
   "execution_count": 9,
   "id": "53b1d61f",
   "metadata": {},
   "outputs": [],
   "source": [
    "n_val = int(n * 0.2)\n",
    "n_test = int(n * 0.2)\n",
    "n_train = n - n_val - n_test\n",
    "\n",
    "idx_train = idx[range(n_train)]\n",
    "idx_val = idx[range(n_train, n_train + n_val)]\n",
    "idx_test = idx[range(n_train + n_val, n)]"
   ]
  },
  {
   "cell_type": "code",
   "execution_count": 10,
   "id": "206098a2",
   "metadata": {},
   "outputs": [
    {
     "data": {
      "text/plain": [
       "True"
      ]
     },
     "execution_count": 10,
     "metadata": {},
     "output_type": "execute_result"
    }
   ],
   "source": [
    "[n_train, n_val, n_test] == [len(idx) for idx in [idx_train, idx_val, idx_test]]"
   ]
  },
  {
   "cell_type": "code",
   "execution_count": 11,
   "id": "e97989a5",
   "metadata": {},
   "outputs": [],
   "source": [
    "train = df.iloc[idx_train]\n",
    "val = df.iloc[idx_val]\n",
    "test = df.iloc[idx_test]"
   ]
  },
  {
   "cell_type": "code",
   "execution_count": 12,
   "id": "932a2433",
   "metadata": {},
   "outputs": [],
   "source": [
    "partitions = [train, val, test]\n",
    "\n",
    "train_target, val_target, test_target = [\n",
    "    np.log1p(dat.median_house_value) for dat in [train, val, test]\n",
    "]"
   ]
  },
  {
   "cell_type": "markdown",
   "id": "2ecadf55",
   "metadata": {},
   "source": [
    "### Question 3\n",
    "\n",
    "* We need to deal with missing values for the column from Q1.\n",
    "* We have two options: fill it with 0 or with the mean of this variable.\n",
    "* Try both options. For each, train a linear regression model without regularization using the code from the lessons.\n",
    "* For computing the mean, use the training only!\n",
    "* Use the validation dataset to evaluate the models and compare the RMSE of each option.\n",
    "* Round the RMSE scores to 2 decimal digits using `round(score, 2)`\n",
    "* Which option gives better RMSE?\n",
    "\n",
    "Options:\n",
    "- With 0\n",
    "- With mean\n",
    "- With median\n",
    "- Both are equally good"
   ]
  },
  {
   "cell_type": "code",
   "execution_count": 13,
   "id": "fab16c15",
   "metadata": {},
   "outputs": [],
   "source": [
    "pd.set_option('mode.chained_assignment', None)\n",
    "\n",
    "partitions_zero_fill = []\n",
    "partitions_mean_fill = []\n",
    "\n",
    "mean_total_bedrooms = train.total_bedrooms.mean()\n",
    "\n",
    "for p in partitions:\n",
    "    pzf = p.copy()\n",
    "    pmf = p.copy()\n",
    "\n",
    "    pzf.total_bedrooms = pzf.total_bedrooms.fillna(0)\n",
    "    pmf.total_bedrooms = pmf.total_bedrooms.fillna(mean_total_bedrooms)\n",
    "    \n",
    "    pzf = pzf.drop('median_house_value', axis=1)\n",
    "    pmf = pmf.drop('median_house_value', axis=1)\n",
    "    \n",
    "    partitions_zero_fill.append(pzf)\n",
    "    partitions_mean_fill.append(pmf)\n",
    "    \n",
    "train_X_zero_fill, val_X_zero_fill, test_X_zero_fills = partitions_zero_fill\n",
    "train_X_mean_fill, val_X_mean_fill, test_X_mean_fills = partitions_mean_fill"
   ]
  },
  {
   "cell_type": "code",
   "execution_count": 14,
   "id": "72f76f02",
   "metadata": {},
   "outputs": [],
   "source": [
    "def train_linear_regression(X, y):\n",
    "    ones = np.ones(X.shape[0])\n",
    "    \n",
    "    X = np.column_stack([ones, X])\n",
    "    XTX = X.T.dot(X)\n",
    "    XTX_inv = np.linalg.inv(XTX)\n",
    "    w_full = XTX_inv.dot(X.T).dot(y)\n",
    "\n",
    "    return w_full[0], w_full[1:]\n",
    "\n",
    "def rmse(y, y_pred):\n",
    "    se = (y - y_pred) ** 2\n",
    "    mse = se.mean()\n",
    "    return np.sqrt(mse)\n",
    "\n",
    "w0_zero_fill, w_zero_fill = train_linear_regression(train_X_zero_fill, train_target)\n",
    "w0_mean_fill, w_mean_fill = train_linear_regression(train_X_mean_fill, train_target)\n",
    "\n",
    "y_pred_zero_fill = w0_zero_fill + val_X_zero_fill.dot(w_zero_fill)\n",
    "y_pred_mean_fill = w0_mean_fill + val_X_mean_fill.dot(w_mean_fill)\n",
    "\n",
    "rmse_zero = rmse(val_target, y_pred_zero_fill)\n",
    "rmse_mean = rmse(val_target, y_pred_mean_fill)"
   ]
  },
  {
   "cell_type": "code",
   "execution_count": 15,
   "id": "3ae181fd",
   "metadata": {},
   "outputs": [
    {
     "name": "stdout",
     "output_type": "stream",
     "text": [
      "\n",
      "RMSE for zero-filled model: 0.33\n",
      "RMSE for mean-filled model: 0.33\n",
      "\n"
     ]
    }
   ],
   "source": [
    "print(f'''\n",
    "RMSE for zero-filled model: {round(rmse_zero, 2)}\n",
    "RMSE for mean-filled model: {round(rmse_mean, 2)}\n",
    "''')"
   ]
  },
  {
   "cell_type": "code",
   "execution_count": 16,
   "id": "32dd133e",
   "metadata": {},
   "outputs": [
    {
     "name": "stdout",
     "output_type": "stream",
     "text": [
      "\n",
      "RMSE for zero-filled model: 0.329533\n",
      "RMSE for mean-filled model: 0.3290195\n",
      "\n"
     ]
    }
   ],
   "source": [
    "print(f'''\n",
    "RMSE for zero-filled model: {round(rmse_zero, 7)}\n",
    "RMSE for mean-filled model: {round(rmse_mean, 7)}\n",
    "''')"
   ]
  },
  {
   "cell_type": "markdown",
   "id": "9c7e8cbb",
   "metadata": {},
   "source": [
    "### Question 4\n",
    "\n",
    "* Now let's train a regularized linear regression.\n",
    "* For this question, fill the NAs with 0. \n",
    "* Try different values of `r` from this list: `[0, 0.000001, 0.0001, 0.001, 0.01, 0.1, 1, 5, 10]`.\n",
    "* Use RMSE to evaluate the model on the validation dataset.\n",
    "* Round the RMSE scores to 2 decimal digits.\n",
    "* Which `r` gives the best RMSE?\n",
    "\n",
    "If there are multiple options, select the smallest `r`.\n",
    "\n",
    "Options:\n",
    "- 0\n",
    "- 0.000001\n",
    "- 0.001\n",
    "- 0.0001"
   ]
  },
  {
   "cell_type": "code",
   "execution_count": 19,
   "id": "fcb87a9a",
   "metadata": {},
   "outputs": [
    {
     "name": "stdout",
     "output_type": "stream",
     "text": [
      "           r      rmse  rounded_rmses\n",
      "0   0.000000  0.329533           0.33\n",
      "1   0.000001  0.329533           0.33\n",
      "2   0.000100  0.329533           0.33\n",
      "3   0.001000  0.329533           0.33\n",
      "4   0.010000  0.329532           0.33\n",
      "5   0.100000  0.329695           0.33\n",
      "6   1.000000  0.333789           0.33\n",
      "7   5.000000  0.339249           0.34\n",
      "8  10.000000  0.340606           0.34\n"
     ]
    }
   ],
   "source": [
    "def train_linear_regression_reg(X, y, r=0.001):\n",
    "    ones = np.ones(X.shape[0])\n",
    "    X = np.column_stack([ones, X])\n",
    "\n",
    "    XTX = X.T.dot(X)\n",
    "    XTX = XTX + r * np.eye(XTX.shape[0])\n",
    "\n",
    "    XTX_inv = np.linalg.inv(XTX)\n",
    "    w_full = XTX_inv.dot(X.T).dot(y)\n",
    "   \n",
    "    return w_full[0], w_full[1:]\n",
    "\n",
    "r_values = [0, 0.000001, 0.0001, 0.001, 0.01, 0.1, 1, 5, 10]\n",
    "r_rmses = []\n",
    "for r_val in r_values:\n",
    "    w0, w = train_linear_regression_reg(train_X_zero_fill, train_target, r=r_val) \n",
    "    preds = w0 + val_X_zero_fill.dot(w)\n",
    "    r_rmse = rmse(val_target, preds)\n",
    "    r_rmses.append(r_rmse)\n",
    "    \n",
    "r_val_df = pd.DataFrame({'r': r_values, 'rmse': r_rmses})\n",
    "r_val_df['rounded_rmses'] = round(r_val_df.rmse, 2)\n",
    "\n",
    "print(r_val_df)"
   ]
  },
  {
   "cell_type": "code",
   "execution_count": 20,
   "id": "b9bf5c23",
   "metadata": {},
   "outputs": [
    {
     "data": {
      "text/html": [
       "<div>\n",
       "<style scoped>\n",
       "    .dataframe tbody tr th:only-of-type {\n",
       "        vertical-align: middle;\n",
       "    }\n",
       "\n",
       "    .dataframe tbody tr th {\n",
       "        vertical-align: top;\n",
       "    }\n",
       "\n",
       "    .dataframe thead th {\n",
       "        text-align: right;\n",
       "    }\n",
       "</style>\n",
       "<table border=\"1\" class=\"dataframe\">\n",
       "  <thead>\n",
       "    <tr style=\"text-align: right;\">\n",
       "      <th></th>\n",
       "      <th>r</th>\n",
       "      <th>rmse</th>\n",
       "      <th>rounded_rmses</th>\n",
       "    </tr>\n",
       "  </thead>\n",
       "  <tbody>\n",
       "    <tr>\n",
       "      <th>4</th>\n",
       "      <td>0.01</td>\n",
       "      <td>0.329532</td>\n",
       "      <td>0.33</td>\n",
       "    </tr>\n",
       "  </tbody>\n",
       "</table>\n",
       "</div>"
      ],
      "text/plain": [
       "      r      rmse  rounded_rmses\n",
       "4  0.01  0.329532           0.33"
      ]
     },
     "execution_count": 20,
     "metadata": {},
     "output_type": "execute_result"
    }
   ],
   "source": [
    "r_val_df.loc[r_val_df.rmse == r_val_df.rmse.min(), :]"
   ]
  },
  {
   "cell_type": "markdown",
   "id": "1c6bac4f",
   "metadata": {},
   "source": [
    "### Question 5 \n",
    "\n",
    "* We used seed 42 for splitting the data. Let's find out how selecting the seed influences our score.\n",
    "* Try different seed values: `[0, 1, 2, 3, 4, 5, 6, 7, 8, 9]`.\n",
    "* For each seed, do the train/validation/test split with 60%/20%/20% distribution.\n",
    "* Fill the missing values with 0 and train a model without regularization.\n",
    "* For each seed, evaluate the model on the validation dataset and collect the RMSE scores. \n",
    "* What's the standard deviation of all the scores? To compute the standard deviation, use `np.std`.\n",
    "* Round the result to 3 decimal digits (`round(std, 3)`)\n",
    "\n",
    "> Note: Standard deviation shows how different the values are.\n",
    "> If it's low, then all values are approximately the same.\n",
    "> If it's high, the values are different. \n",
    "> If standard deviation of scores is low, then our model is *stable*.\n",
    "\n",
    "Options:\n",
    "- 0.16\n",
    "- 0.00005\n",
    "- 0.005\n",
    "- 0.15555"
   ]
  },
  {
   "cell_type": "code",
   "execution_count": 26,
   "id": "5a6dfcb1",
   "metadata": {},
   "outputs": [
    {
     "name": "stdout",
     "output_type": "stream",
     "text": [
      "Standard deviation of validation RMSE is 0.004\n"
     ]
    }
   ],
   "source": [
    "seeds = [0, 1, 2, 3, 4, 5, 6, 7, 8, 9]\n",
    "seed_map = {seed:{} for seed in seeds}\n",
    "\n",
    "df_seeds = df.copy()\n",
    "df_seeds.total_bedrooms = df.total_bedrooms.fillna(0)\n",
    "n = df_seeds.shape[0]\n",
    "\n",
    "\n",
    "for seed in seeds:\n",
    "    np.random.seed(seed)\n",
    "    idx = np.arange(n)\n",
    "    np.random.shuffle(idx)\n",
    "       \n",
    "    n_val = int(n * 0.2)\n",
    "    n_test = int(n * 0.2)\n",
    "    n_train = n - n_val - n_test\n",
    "\n",
    "    idx_train = idx[range(n_train)]\n",
    "    idx_val = idx[range(n_train, n_train + n_val)]\n",
    "    idx_test = idx[range(n_train + n_val, n)]\n",
    "    \n",
    "    train = df_seeds.iloc[idx_train]\n",
    "    val = df_seeds.iloc[idx_val]\n",
    "    test = df_seeds.iloc[idx_test]\n",
    "    \n",
    "    train_target = np.log1p(train.median_house_value)\n",
    "    val_target = np.log1p(val.median_house_value)\n",
    "    \n",
    "    train_X = train.drop('median_house_value', axis=1)\n",
    "    val_X = val.drop('median_house_value', axis=1)\n",
    "\n",
    "    w0, w = train_linear_regression(train_X, train_target)\n",
    "    \n",
    "    preds = w0 + val_X.dot(w)\n",
    "    seed_map[seed]['rmse'] = rmse(val_target, preds)\n",
    "\n",
    "rmses = [d['rmse'] for d in seed_map.values()]\n",
    "std_dev = np.std(rmses)\n",
    "\n",
    "print(f'Standard deviation of validation RMSE is {round(std_dev, 3)}')"
   ]
  },
  {
   "cell_type": "markdown",
   "id": "deaac30b",
   "metadata": {},
   "source": [
    "### Question 6\n",
    "\n",
    "* Split the dataset like previously, use seed 9.\n",
    "* Combine train and validation datasets.\n",
    "* Fill the missing values with 0 and train a model with `r=0.001`. \n",
    "* What's the RMSE on the test dataset?\n",
    "\n",
    "Options:\n",
    "- 0.35\n",
    "- 0.135\n",
    "- 0.450\n",
    "- 0.245"
   ]
  },
  {
   "cell_type": "code",
   "execution_count": 47,
   "id": "909e0739",
   "metadata": {},
   "outputs": [
    {
     "name": "stdout",
     "output_type": "stream",
     "text": [
      "RMSE for Q9 (seed 9, train+val combined, reg = 0.001) is 0.345\n"
     ]
    }
   ],
   "source": [
    "np.random.seed(9)\n",
    "idx = np.arange(n)\n",
    "np.random.shuffle(idx)\n",
    "\n",
    "n_val = int(n * 0.2)\n",
    "n_test = int(n * 0.2)\n",
    "n_train = n - n_val - n_test\n",
    "\n",
    "idx_train = idx[range(n_train)]\n",
    "idx_val = idx[range(n_train, n_train + n_val)]\n",
    "idx_test = idx[range(n_train + n_val, n)]\n",
    "\n",
    "df_q9 = df.copy()\n",
    "\n",
    "train = df_q9.iloc[idx_train]\n",
    "val = df_q9.iloc[idx_val]\n",
    "test = df_q9.iloc[idx_test]\n",
    "\n",
    "new_train = pd.concat([train, val])\n",
    "new_train.total_bedrooms = new_train.total_bedrooms.fillna(0)\n",
    "\n",
    "new_train_X = new_train.drop('median_house_value', axis=1)\n",
    "test_X = test.drop('median_house_value', axis=1)\n",
    "\n",
    "new_train_target = np.log1p(new_train.median_house_value)\n",
    "test_target = np.log1p(test.median_house_value)\n",
    "\n",
    "w0, w = train_linear_regression_reg(new_train_X, new_train_target, r=0.001)\n",
    "preds = w0 + test_X.dot(w)\n",
    "\n",
    "rmse_q9 = rmse(preds, test_target)\n",
    "\n",
    "print(f'RMSE for Q9 (seed 9, train+val combined, reg = 0.001) is {round(rmse_q9, 3)}')"
   ]
  },
  {
   "cell_type": "markdown",
   "id": "d78f03e4",
   "metadata": {},
   "source": [
    "## Submit the results\n",
    "- Submit your results here: https://forms.gle/WCVb4KMNsgbkuJtr6\n",
    "- If your answer doesn't match options exactly, select the closest one.\n",
    "- You can submit your solution multiple times. In this case, only the last submission will be used\n",
    "\n",
    "## Deadline\n",
    "\n",
    "The deadline for submitting is, 19 September 2022, 23:00 CET. After that, the form will be closed."
   ]
  },
  {
   "cell_type": "code",
   "execution_count": null,
   "id": "46d28637",
   "metadata": {},
   "outputs": [],
   "source": []
  }
 ],
 "metadata": {
  "kernelspec": {
   "display_name": "Python 3 (ipykernel)",
   "language": "python",
   "name": "python3"
  },
  "language_info": {
   "codemirror_mode": {
    "name": "ipython",
    "version": 3
   },
   "file_extension": ".py",
   "mimetype": "text/x-python",
   "name": "python",
   "nbconvert_exporter": "python",
   "pygments_lexer": "ipython3",
   "version": "3.9.13"
  }
 },
 "nbformat": 4,
 "nbformat_minor": 5
}
