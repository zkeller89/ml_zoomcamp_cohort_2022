{
 "cells": [
  {
   "cell_type": "code",
   "execution_count": 1,
   "id": "aee0792d-7b26-4017-af1a-9891b7338610",
   "metadata": {},
   "outputs": [],
   "source": [
    "import os\n",
    "import sys\n",
    "\n",
    "from pydantic import BaseModel"
   ]
  },
  {
   "cell_type": "markdown",
   "id": "3b9fd000-b7b6-43bf-9d6d-8432341d1b16",
   "metadata": {},
   "source": [
    "## Homework\n",
    "\n",
    "> Note: sometimes your answer might not match one of the options exactly. That's fine. \n",
    "Select the option that's closest to your solution.\n",
    "\n",
    "The goal of this homework is to familiarize you with BentoML and how to build and test an ML production service."
   ]
  },
  {
   "cell_type": "markdown",
   "id": "0e76bdb1-b6a3-4953-9167-5315be946bb8",
   "metadata": {},
   "source": [
    "## Background\n",
    "\n",
    "You are a new recruit at ACME corp. Your manager is emailing you about your first assignment.\n",
    "\n",
    "\n",
    "## Email from your manager\n",
    "\n",
    "Good morning recruit! It's good to have you here! I have an assignment for you. I have a data scientist that's built\n",
    "a credit risk model in a jupyter notebook. I need you to run the notebook and save the model with BentoML and see\n",
    "how big the model is. If it's greater than a certain size, I'm going to have to request additional resources from \n",
    "our infra team. Please let me know how big it is.\n",
    "\n",
    "Thanks,\n",
    "\n",
    "Mr McManager"
   ]
  },
  {
   "cell_type": "markdown",
   "id": "5c900e5f-0370-43d3-9862-c1cab9237648",
   "metadata": {},
   "source": [
    "## Question 1\n",
    "\n",
    "* Install BentoML\n",
    "* What's the version of BentoML you installed?\n",
    "* Use `--version` to find out"
   ]
  },
  {
   "cell_type": "code",
   "execution_count": 2,
   "id": "2d8a14da-f947-4b38-a402-be90a2751e51",
   "metadata": {},
   "outputs": [
    {
     "data": {
      "text/plain": [
       "'1.0.7'"
      ]
     },
     "execution_count": 2,
     "metadata": {},
     "output_type": "execute_result"
    }
   ],
   "source": [
    "bentoml_installation = !pipenv graph | grep bentoml\n",
    "\n",
    "if not bentoml_installation:\n",
    "    !pipenv install bentoml\n",
    "    \n",
    "import bentoml\n",
    "bentoml.__version__"
   ]
  },
  {
   "cell_type": "markdown",
   "id": "2c05024f-a0b9-402f-88a3-ca92b1c66317",
   "metadata": {},
   "source": [
    "## Question 2\n",
    "\n",
    "Run the notebook which contains the xgboost model from module 6 i.e previous module and save the xgboost model with BentoML. To make it easier for you we have prepared this [notebook](https://github.com/alexeygrigorev/mlbookcamp-code/blob/master/course-zoomcamp/07-bentoml-production/code/train.ipynb). \n",
    "\n",
    "\n",
    "How big approximately is the saved BentoML model? Size can slightly vary depending on your local development environment.\n",
    "Choose the size closest to your model.\n",
    "\n",
    "* 924kb\n",
    "* 724kb\n",
    "* 114kb\n",
    "* 8kb"
   ]
  },
  {
   "cell_type": "code",
   "execution_count": 3,
   "id": "8125fa04-d838-497a-b2cd-bcba06ec5e82",
   "metadata": {},
   "outputs": [
    {
     "name": "stdout",
     "output_type": "stream",
     "text": [
      "removed train.ipynb\n",
      "--2022-10-24 14:58:03--  https://raw.githubusercontent.com/alexeygrigorev/mlbookcamp-code/master/course-zoomcamp/07-bentoml-production/code/train.ipynb\n",
      "Resolving raw.githubusercontent.com (raw.githubusercontent.com)... 185.199.108.133, 185.199.109.133, 185.199.110.133, ...\n",
      "Connecting to raw.githubusercontent.com (raw.githubusercontent.com)|185.199.108.133|:443... connected.\n",
      "HTTP request sent, awaiting response... 200 OK\n",
      "Length: 7800 (7.6K) [text/plain]\n",
      "Saving to: ‘train.ipynb’\n",
      "\n",
      "train.ipynb         100%[===================>]   7.62K  --.-KB/s    in 0s      \n",
      "\n",
      "2022-10-24 14:58:04 (34.6 MB/s) - ‘train.ipynb’ saved [7800/7800]\n",
      "\n",
      "Model(tag=\"credit_risk_model:4bv5chctvo5y342m\") deleted\n",
      "{\n",
      "  \"seniority\": 3,\n",
      "  \"home\": \"owner\",\n",
      "  \"time\": 36,\n",
      "  \"age\": 26,\n",
      "  \"marital\": \"single\",\n",
      "  \"records\": \"no\",\n",
      "  \"job\": \"freelance\",\n",
      "  \"expenses\": 35,\n",
      "  \"income\": 0.0,\n",
      "  \"assets\": 60000.0,\n",
      "  \"debt\": 3000.0,\n",
      "  \"amount\": 800,\n",
      "  \"price\": 1000\n",
      "}\n",
      "\u001b[1m[\u001b[0m\n",
      "  \u001b[1m{\u001b[0m\n",
      "    \u001b[1;34m\"tag\"\u001b[0m: \u001b[32m\"credit_risk_model:i2iuluctvs32bvoc\"\u001b[0m,\n",
      "    \u001b[1;34m\"module\"\u001b[0m: \u001b[32m\"bentoml.xgboost\"\u001b[0m,\n",
      "    \u001b[1;34m\"size\"\u001b[0m: \u001b[32m\"197.77 KiB\"\u001b[0m,\n",
      "    \u001b[1;34m\"creation_time\"\u001b[0m: \u001b[32m\"2022-10-24 14:58:10\"\u001b[0m\n",
      "  \u001b[1m}\u001b[0m\n",
      "\u001b[1m]\u001b[0m\n"
     ]
    }
   ],
   "source": [
    "if os.path.isfile('train.ipynb'):\n",
    "    !rm 'train.ipynb'\n",
    "    print('removed train.ipynb')\n",
    "\n",
    "!wget https://raw.githubusercontent.com/alexeygrigorev/mlbookcamp-code/master/course-zoomcamp/07-bentoml-production/code/train.ipynb\n",
    "!bentoml models delete -y credit_risk_model\n",
    "%run train.ipynb\n",
    "\n",
    "!bentoml models list -o json credit_risk_model"
   ]
  },
  {
   "cell_type": "markdown",
   "id": "493bcdb6-eda6-459c-a473-65e0c70988d3",
   "metadata": {},
   "source": [
    "## Another email from your manager\n",
    "\n",
    "Great job recruit! Looks like I won't be having to go back to the procurement team. Thanks for the information.\n",
    "\n",
    "However, I just got word from one of the teams that's using one of our ML services and they're saying our service is \"broken\"\n",
    "and their trying to blame our model. I looked at the data their sending and it's completely bogus. I don't want them\n",
    "to send bad data to us and blame us for our models. Could you write a pydantic schema for the data that they should be sending?\n",
    "That way next time it will tell them it's their data that's bad and not our model.\n",
    "\n",
    "Thanks,\n",
    "\n",
    "Mr McManager"
   ]
  },
  {
   "cell_type": "markdown",
   "id": "890d3d6f-5a98-42b5-ab3f-86d025095b1c",
   "metadata": {},
   "source": [
    "## Question 3\n",
    "\n",
    "Say you have the following data that you're sending to your service:\n",
    "\n",
    "```json\n",
    "{\n",
    "  \"name\": \"Tim\",\n",
    "  \"age\": 37,\n",
    "  \"country\": \"US\",\n",
    "  \"rating\": 3.14\n",
    "}\n",
    "```\n",
    "\n",
    "What would the pydantic class look like? You can name the class `UserProfile`."
   ]
  },
  {
   "cell_type": "code",
   "execution_count": 4,
   "id": "f383649c-0dcb-4d45-8212-9f45cb031262",
   "metadata": {},
   "outputs": [],
   "source": [
    "class UserProfile(BaseModel):\n",
    "    name: str\n",
    "    age: int\n",
    "    country: str\n",
    "    rating: float"
   ]
  },
  {
   "cell_type": "markdown",
   "id": "972d8e4d-806e-4219-8764-93d385ded166",
   "metadata": {},
   "source": [
    "## Email from your CEO\n",
    "\n",
    "Good morning! I hear you're the one to go to if I need something done well! We've got a new model that a big client\n",
    "needs deployed ASAP. I need you to build a service with it and test it against the old model and make sure that it performs\n",
    "better, otherwise we're going to lose this client. All our hopes are with you!\n",
    "\n",
    "Thanks,\n",
    "\n",
    "CEO of Acme Corp"
   ]
  },
  {
   "cell_type": "markdown",
   "id": "1124e65a-dc38-42d3-b932-4c0dbad232a7",
   "metadata": {},
   "source": [
    "## Question 4\n",
    "\n",
    "We've prepared a model for you that you can import using:\n",
    "\n",
    "```bash\n",
    "curl -O https://s3.us-west-2.amazonaws.com/bentoml.com/mlzoomcamp/coolmodel.bentomodel\n",
    "bentoml models import coolmodel.bentomodel\n",
    "```\n",
    "\n",
    "What version of scikit-learn was this model trained with?\n",
    "\n",
    "* 1.1.1\n",
    "* 1.1.2\n",
    "* 1.1.3\n",
    "* 1.1.4\n",
    "* 1.1.5"
   ]
  },
  {
   "cell_type": "code",
   "execution_count": 5,
   "id": "2a6f8a5e-c3f1-4ce3-a354-1ff2175ba7c4",
   "metadata": {},
   "outputs": [],
   "source": [
    "if not os.path.isfile('coolmodel.bentomodel'):\n",
    "    !curl -O https://s3.us-west-2.amazonaws.com/bentoml.com/mlzoomcamp/coolmodel.bentomodel\n",
    "    \n",
    "# !bentoml models import coolmodel.bentomodel"
   ]
  },
  {
   "cell_type": "code",
   "execution_count": 6,
   "id": "cc126808-3fec-48cf-bed8-2cd1421941bd",
   "metadata": {},
   "outputs": [
    {
     "name": "stdout",
     "output_type": "stream",
     "text": [
      "\u001b[1m{\u001b[0m\n",
      "  \u001b[1;34m\"name\"\u001b[0m: \u001b[32m\"mlzoomcamp_homework\"\u001b[0m,\n",
      "  \u001b[1;34m\"version\"\u001b[0m: \u001b[32m\"jsi67fslz6txydu5\"\u001b[0m,\n",
      "  \u001b[1;34m\"module\"\u001b[0m: \u001b[32m\"bentoml.sklearn\"\u001b[0m,\n",
      "  \u001b[1;34m\"labels\"\u001b[0m: \u001b[1m{\u001b[0m\u001b[1m}\u001b[0m,\n",
      "  \u001b[1;34m\"options\"\u001b[0m: \u001b[1m{\u001b[0m\u001b[1m}\u001b[0m,\n",
      "  \u001b[1;34m\"metadata\"\u001b[0m: \u001b[1m{\u001b[0m\u001b[1m}\u001b[0m,\n",
      "  \u001b[1;34m\"context\"\u001b[0m: \u001b[1m{\u001b[0m\n",
      "    \u001b[1;34m\"framework_name\"\u001b[0m: \u001b[32m\"sklearn\"\u001b[0m,\n",
      "    \u001b[1;34m\"framework_versions\"\u001b[0m: \u001b[1m{\u001b[0m\n",
      "      \u001b[1;34m\"scikit-learn\"\u001b[0m: \u001b[32m\"1.1.1\"\u001b[0m\n",
      "    \u001b[1m}\u001b[0m,\n",
      "    \u001b[1;34m\"bentoml_version\"\u001b[0m: \u001b[32m\"1.0.7\"\u001b[0m,\n",
      "    \u001b[1;34m\"python_version\"\u001b[0m: \u001b[32m\"3.9.12\"\u001b[0m\n",
      "  \u001b[1m}\u001b[0m,\n",
      "  \u001b[1;34m\"signatures\"\u001b[0m: \u001b[1m{\u001b[0m\n",
      "    \u001b[1;34m\"predict\"\u001b[0m: \u001b[1m{\u001b[0m\n",
      "      \u001b[1;34m\"batchable\"\u001b[0m: \u001b[3;92mtrue\u001b[0m,\n",
      "      \u001b[1;34m\"batch_dim\"\u001b[0m: \u001b[1m[\u001b[0m\n",
      "        \u001b[1;36m0\u001b[0m,\n",
      "        \u001b[1;36m0\u001b[0m\n",
      "      \u001b[1m]\u001b[0m\n",
      "    \u001b[1m}\u001b[0m\n",
      "  \u001b[1m}\u001b[0m,\n",
      "  \u001b[1;34m\"api_version\"\u001b[0m: \u001b[32m\"v1\"\u001b[0m,\n",
      "  \u001b[1;34m\"creation_time\"\u001b[0m: \u001b[32m\"2022-10-14T14:48:43.330446+00:00\"\u001b[0m\n",
      "\u001b[1m}\u001b[0m\n"
     ]
    }
   ],
   "source": [
    "!bentoml models get -o json mlzoomcamp_homework"
   ]
  },
  {
   "cell_type": "markdown",
   "id": "bc0eb556-a397-46c3-a839-faf357b80ad3",
   "metadata": {},
   "source": [
    "## Question 5 \n",
    "\n",
    "Create a bento out of this scikit-learn model. The output type for this endpoint should be `NumpyNdarray()`\n",
    "\n",
    "Send this array to the Bento:\n",
    "\n",
    "```\n",
    "[[6.4,3.5,4.5,1.2]]\n",
    "```\n",
    "\n",
    "You can use curl or the Swagger UI. What value does it return? \n",
    "\n",
    "* 0\n",
    "* 1\n",
    "* 2\n",
    "* 3\n",
    "\n",
    "(Make sure your environment has Scikit-Learn installed) "
   ]
  },
  {
   "cell_type": "code",
   "execution_count": 7,
   "id": "975f2b65-f0f5-4c50-82c7-80a9eddbd047",
   "metadata": {},
   "outputs": [
    {
     "name": "stdout",
     "output_type": "stream",
     "text": [
      "[1]"
     ]
    }
   ],
   "source": [
    "!curl -X 'POST' \\\n",
    "  'http://localhost:3000/classify' \\\n",
    "  -H 'accept: application/json' \\\n",
    "  -H 'Content-Type: application/json' \\\n",
    "  -d '{[[6.4,3.5,4.5,1.2]]}'"
   ]
  },
  {
   "cell_type": "markdown",
   "id": "68aaa23a-561f-4d60-a1ea-ec07f87b6b88",
   "metadata": {},
   "source": [
    "## Question 6\n",
    "\n",
    "Ensure to serve your bento with `--production` for this question\n",
    "\n",
    "Install locust using:\n",
    "\n",
    "```bash\n",
    "pip install locust\n",
    "```\n",
    "\n",
    "Use the following locust file: [locustfile.py](locustfile.py)\n",
    "\n",
    "Ensure that it is pointed at your bento's endpoint (In case you didn't name your endpoint \"classify\")\n",
    "\n",
    "<img src=\"resources/classify-endpoint.png\">\n",
    "\n",
    "Configure 100 users with ramp time of 10 users per second. Click \"Start Swarming\" and ensure that it is working.\n",
    "\n",
    "Now download a second model with this command:\n",
    "\n",
    "```bash\n",
    "curl -O https://s3.us-west-2.amazonaws.com/bentoml.com/mlzoomcamp/coolmodel2.bentomodel\n",
    "```\n",
    "\n",
    "Or you can download with this link as well:\n",
    "[https://s3.us-west-2.amazonaws.com/bentoml.com/mlzoomcamp/coolmodel2.bentomodel](https://s3.us-west-2.amazonaws.com/bentoml.com/mlzoomcamp/coolmodel2.bentomodel)\n",
    "\n",
    "Now import the model:\n",
    "\n",
    "```bash\n",
    "bentoml models import coolmodel2.bentomodel\n",
    "```\n",
    "\n",
    "Update your bento's runner tag and test with both models. Which model allows more traffic (more throughput) as you ramp up the traffic?\n",
    "\n",
    "**Hint 1**: Remember to turn off and turn on your bento service between changing the model tag. Use Ctl-C to close the service in between trials.\n",
    "\n",
    "**Hint 2**: Increase the number of concurrent users to see which one has higher throughput\n",
    "\n",
    "Which model has better performance at higher volumes?\n",
    "\n",
    "* The first model\n",
    "* The second model"
   ]
  },
  {
   "cell_type": "code",
   "execution_count": 8,
   "id": "8e98a3bb-e848-4cfc-8ab5-b9a80fff5444",
   "metadata": {},
   "outputs": [],
   "source": [
    "if not os.path.isfile('locustfile.py'):\n",
    "    !wget https://raw.githubusercontent.com/alexeygrigorev/mlbookcamp-code/master/course-zoomcamp/cohorts/2022/07-bento-production/locustfile.py\n",
    "\n",
    "if not os.path.isfile('coolmodel2.bentomodel'):\n",
    "    !curl -O https://s3.us-west-2.amazonaws.com/bentoml.com/mlzoomcamp/coolmodel2.bentomodel\n",
    "    \n",
    "# !bentoml models import coolmodel2.bentomodel"
   ]
  },
  {
   "cell_type": "markdown",
   "id": "2edfe7bd-6758-4e8d-a6c3-a4e9f0f7ca44",
   "metadata": {},
   "source": [
    "### Answer\n",
    "Unsure how to record this in a notebook - but Model 2 performed better"
   ]
  },
  {
   "cell_type": "markdown",
   "id": "cde04ebd-5700-4ec3-935e-d3ff41629d31",
   "metadata": {},
   "source": [
    "## Email from marketing\n",
    "\n",
    "Hello ML person! I hope this email finds you well. I've heard there's this cool new ML model called Stable Diffusion.\n",
    "I hear if you give it a description of a picture it will generate an image. We need a new company logo and I want it\n",
    "to be fierce but also cool, think you could help out?\n",
    "\n",
    "Thanks,\n",
    "\n",
    "Mike Marketer"
   ]
  },
  {
   "cell_type": "markdown",
   "id": "83f55506-6d9a-487d-8b07-706e61ad4859",
   "metadata": {},
   "source": [
    "## Question 7 (optional)\n",
    "\n",
    "Go to this Bento deployment of Stable Diffusion: http://54.176.205.174/ (or deploy it yourself)\n",
    "\n",
    "Use the txt2image endpoint and update the prompt to: \"A cartoon dragon with sunglasses\". \n",
    "Don't change the seed, it should be 0 by default\n",
    "\n",
    "What is the resulting image?\n",
    "\n",
    "### #1\n",
    "<img src=\"resources/dragon1.jpeg\">\n",
    "\n",
    "### #2 \n",
    "<img src=\"resources/dragon2.jpeg\">\n",
    "\n",
    "### #3 \n",
    "<img src=\"resources/dragon3.jpeg\">\n",
    "\n",
    "### #4\n",
    "<img src=\"resources/dragon4.jpeg\">"
   ]
  },
  {
   "cell_type": "markdown",
   "id": "566885f3-5e7e-4b9b-a54e-fb798aff4323",
   "metadata": {},
   "source": [
    "## Endpoint down :(  "
   ]
  },
  {
   "cell_type": "markdown",
   "id": "9ddf47fe-cf07-4a3e-a685-b7c62be5698b",
   "metadata": {},
   "source": [
    "## Submit the results\n",
    "\n",
    "* Submit your results here: https://forms.gle/Hh9FWy6LGXk3wJYs8\n",
    "* You can submit your solution multiple times. In this case, only the last submission will be used \n",
    "* If your answer doesn't match options exactly, select the closest one"
   ]
  },
  {
   "cell_type": "markdown",
   "id": "3d2d0cc4-2507-42f2-bdea-5014592766b6",
   "metadata": {},
   "source": [
    "## Deadline\n",
    "\n",
    "The deadline for submitting is **24 October 2022 (Monday), 23:00 CEST (Berlin time)**. \n",
    "\n",
    "After that, the form will be closed."
   ]
  }
 ],
 "metadata": {
  "kernelspec": {
   "display_name": "Python 3 (ipykernel)",
   "language": "python",
   "name": "python3"
  },
  "language_info": {
   "codemirror_mode": {
    "name": "ipython",
    "version": 3
   },
   "file_extension": ".py",
   "mimetype": "text/x-python",
   "name": "python",
   "nbconvert_exporter": "python",
   "pygments_lexer": "ipython3",
   "version": "3.9.12"
  }
 },
 "nbformat": 4,
 "nbformat_minor": 5
}
