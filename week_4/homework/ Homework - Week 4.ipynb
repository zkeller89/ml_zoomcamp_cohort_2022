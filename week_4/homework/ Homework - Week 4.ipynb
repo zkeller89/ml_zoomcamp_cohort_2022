{
 "cells": [
  {
   "cell_type": "markdown",
   "id": "2b0bdf13-b6cc-413e-93e4-02dd8735e761",
   "metadata": {},
   "source": [
    "## Homework\n",
    "\n",
    "> Note: sometimes your answer doesn't match one of the options exactly. That's fine. \n",
    "Select the option that's closest to your solution."
   ]
  },
  {
   "cell_type": "code",
   "execution_count": 135,
   "id": "23f734c2-c83a-422b-91e1-e2caa2fa1a1e",
   "metadata": {},
   "outputs": [],
   "source": [
    "import pandas as pd\n",
    "import numpy as np\n",
    "import matplotlib.pyplot as plt\n",
    "\n",
    "from sklearn.model_selection import train_test_split, KFold\n",
    "from sklearn.feature_extraction import DictVectorizer\n",
    "from sklearn.linear_model import LogisticRegression\n",
    "from sklearn.metrics import roc_curve, auc, roc_auc_score\n",
    "\n",
    "from tqdm.auto import tqdm"
   ]
  },
  {
   "cell_type": "markdown",
   "id": "25e141e6-28d9-4b90-b88e-e79f57963812",
   "metadata": {},
   "source": [
    "## Dataset\n",
    "\n",
    "In this homework, we will use Credit Card Data from book \"Econometric Analysis\".\n",
    "\n",
    "Here's a wget-able [link](https://raw.githubusercontent.com/alexeygrigorev/datasets/master/AER_credit_card_data.csv):\n",
    "\n",
    "```bash\n",
    "wget https://raw.githubusercontent.com/alexeygrigorev/datasets/master/AER_credit_card_data.csv\n",
    "```\n",
    "The goal of this homework is to inspect the output of different evaluation metrics by creating a classification model (target column `card`). "
   ]
  },
  {
   "cell_type": "code",
   "execution_count": 2,
   "id": "4cd7a0b5-4fc2-44bf-ac3e-0f63e8f57c30",
   "metadata": {},
   "outputs": [
    {
     "name": "stdout",
     "output_type": "stream",
     "text": [
      "--2022-10-02 19:45:54--  https://raw.githubusercontent.com/alexeygrigorev/datasets/master/AER_credit_card_data.csv\n",
      "Resolving raw.githubusercontent.com (raw.githubusercontent.com)... 185.199.111.133, 185.199.108.133, 185.199.110.133, ...\n",
      "Connecting to raw.githubusercontent.com (raw.githubusercontent.com)|185.199.111.133|:443... connected.\n",
      "HTTP request sent, awaiting response... 200 OK\n",
      "Length: 73250 (72K) [text/plain]\n",
      "Saving to: ‘AER_credit_card_data.csv’\n",
      "\n",
      "AER_credit_card_dat 100%[===================>]  71.53K  --.-KB/s    in 0.01s   \n",
      "\n",
      "2022-10-02 19:45:54 (5.63 MB/s) - ‘AER_credit_card_data.csv’ saved [73250/73250]\n",
      "\n"
     ]
    }
   ],
   "source": [
    "!wget https://raw.githubusercontent.com/alexeygrigorev/datasets/master/AER_credit_card_data.csv"
   ]
  },
  {
   "cell_type": "markdown",
   "id": "fc968336-62ef-486e-abf2-ff117456259f",
   "metadata": {},
   "source": [
    "## Preparation\n",
    "\n",
    "* Create the target variable by mapping `yes` to 1 and `no` to 0. \n",
    "* Split the dataset into 3 parts: train/validation/test with 60%/20%/20% distribution. Use `train_test_split` funciton for that with `random_state=1`."
   ]
  },
  {
   "cell_type": "code",
   "execution_count": 18,
   "id": "1bd51cf5-26bd-4aee-a97a-117777c94167",
   "metadata": {},
   "outputs": [
    {
     "data": {
      "text/plain": [
       "[(791, 13), (264, 13), (264, 13)]"
      ]
     },
     "execution_count": 18,
     "metadata": {},
     "output_type": "execute_result"
    }
   ],
   "source": [
    "cc_df = pd.read_csv('AER_credit_card_data.csv')\n",
    "cc_df['target'] = np.where(cc_df.card == 'yes', 1, 0)\n",
    "cc_df.sample(5, random_state=10)\n",
    "\n",
    "full_train, test = train_test_split(cc_df, test_size=0.2, random_state=1)\n",
    "train, val = train_test_split(full_train, test_size=0.25, random_state=1)\n",
    "\n",
    "# check sizes\n",
    "list(map(lambda df: df.shape, [train, val, test]))"
   ]
  },
  {
   "cell_type": "markdown",
   "id": "8ffda74f-5817-4cee-afec-04e87a15695b",
   "metadata": {},
   "source": [
    "## Question 1\n",
    "\n",
    "ROC AUC could also be used to evaluate feature importance of numerical variables. \n",
    "\n",
    "Let's do that\n",
    "\n",
    "* For each numerical variable, use it as score and compute AUC with the `card` variable.\n",
    "* Use the training dataset for that.\n",
    "\n",
    "If your AUC is < 0.5, invert this variable by putting \"-\" in front\n",
    "\n",
    "(e.g. `-df_train['expenditure']`)\n",
    "\n",
    "AUC can go below 0.5 if the variable is negatively correlated with the target varialble. You can change the direction of the correlation by negating this variable - then negative correlation becomes positive.\n",
    "\n",
    "Which numerical variable (among the following 4) has the highest AUC?\n",
    "\n",
    "- `reports`\n",
    "- `dependents`\n",
    "- `active`\n",
    "- `share`"
   ]
  },
  {
   "cell_type": "code",
   "execution_count": 70,
   "id": "c717504c-1c0b-477e-b364-9221ba8b6548",
   "metadata": {},
   "outputs": [
    {
     "data": {
      "text/html": [
       "<div>\n",
       "<style scoped>\n",
       "    .dataframe tbody tr th:only-of-type {\n",
       "        vertical-align: middle;\n",
       "    }\n",
       "\n",
       "    .dataframe tbody tr th {\n",
       "        vertical-align: top;\n",
       "    }\n",
       "\n",
       "    .dataframe thead th {\n",
       "        text-align: right;\n",
       "    }\n",
       "</style>\n",
       "<table border=\"1\" class=\"dataframe\">\n",
       "  <thead>\n",
       "    <tr style=\"text-align: right;\">\n",
       "      <th></th>\n",
       "      <th>auc</th>\n",
       "    </tr>\n",
       "  </thead>\n",
       "  <tbody>\n",
       "    <tr>\n",
       "      <th>share</th>\n",
       "      <td>0.989184</td>\n",
       "    </tr>\n",
       "    <tr>\n",
       "      <th>reports</th>\n",
       "      <td>0.716663</td>\n",
       "    </tr>\n",
       "    <tr>\n",
       "      <th>active</th>\n",
       "      <td>0.604317</td>\n",
       "    </tr>\n",
       "    <tr>\n",
       "      <th>dependents</th>\n",
       "      <td>0.532776</td>\n",
       "    </tr>\n",
       "  </tbody>\n",
       "</table>\n",
       "</div>"
      ],
      "text/plain": [
       "                 auc\n",
       "share       0.989184\n",
       "reports     0.716663\n",
       "active      0.604317\n",
       "dependents  0.532776"
      ]
     },
     "execution_count": 70,
     "metadata": {},
     "output_type": "execute_result"
    }
   ],
   "source": [
    "train_numeric = train.select_dtypes([np.number])\n",
    "\n",
    "def get_auc(tar, col):\n",
    "    fpr, tpr, thresholds = roc_curve(tar, col)\n",
    "    temp_auc = auc(fpr, tpr)\n",
    "    \n",
    "    if temp_auc > 0.5:\n",
    "        return temp_auc\n",
    "    else:\n",
    "        fpr, tpr, thresholds = roc_curve(tar, -1*col)\n",
    "        return auc(fpr, tpr)\n",
    "\n",
    "numeric_aucs = train_numeric.drop('target', axis=1).apply(lambda c: get_auc(train_numeric.target, c))\n",
    "numeric_aucs_df = pd.DataFrame(numeric_aucs, columns=['auc'])\n",
    "\n",
    "options = ['reports', 'dependents', 'active', 'share']\n",
    "\n",
    "numeric_aucs_df.loc[options].sort_values('auc', ascending=False)"
   ]
  },
  {
   "cell_type": "markdown",
   "id": "bf8efb77-4b65-4963-816c-4ca7bcbbb9d3",
   "metadata": {},
   "source": [
    "## Training the model\n",
    "\n",
    "From now on, use these columns only:\n",
    "\n",
    "```\n",
    "[\"reports\", \"age\", \"income\", \"share\", \"expenditure\", \"dependents\", \"months\", \"majorcards\", \"active\", \"owner\", \"selfemp\"]\n",
    "```\n",
    "\n",
    "Apply one-hot-encoding using `DictVectorizer` and train the logistic regression with these parameters:\n",
    "\n",
    "```\n",
    "LogisticRegression(solver='liblinear', C=1.0, max_iter=1000)\n",
    "```"
   ]
  },
  {
   "cell_type": "code",
   "execution_count": 88,
   "id": "dc1a5378-3bd7-496b-b331-b77f24361d79",
   "metadata": {},
   "outputs": [],
   "source": [
    "FIELDS = [\"reports\", \"age\", \"income\", \"share\", \"expenditure\", \"dependents\", \"months\", \"majorcards\", \"active\", \"owner\", \"selfemp\"]\n",
    "DV = DictVectorizer(sparse=False)\n",
    "DV.fit(cc_df[FIELDS].to_dict(orient='records'))\n",
    "\n",
    "def get_x(df):    \n",
    "    df_dict = df[FIELDS].to_dict(orient='records')\n",
    "    return DV.transform(df_dict)\n",
    "  \n",
    "train_y = train.target\n",
    "val_y = val.target\n",
    "test_y = test.target\n",
    "\n",
    "train_x = get_x(train)\n",
    "val_x = get_x(val)\n",
    "test_x = get_x(test)"
   ]
  },
  {
   "cell_type": "markdown",
   "id": "43fc6b56-5f25-4bf7-9df9-4064207ee593",
   "metadata": {},
   "source": [
    "## Question 2\n",
    "\n",
    "What's the AUC of this model on the validation dataset? (round to 3 digits)\n",
    "\n",
    "- 0.615\n",
    "- 0.515\n",
    "- 0.715\n",
    "- 0.995"
   ]
  },
  {
   "cell_type": "code",
   "execution_count": 139,
   "id": "b0bbfecb-1e93-468e-b5b5-8169e514756a",
   "metadata": {},
   "outputs": [
    {
     "name": "stdout",
     "output_type": "stream",
     "text": [
      "0.995\n"
     ]
    }
   ],
   "source": [
    "# sorry forgot roc_auc_score exists\n",
    "mdl = LogisticRegression(solver='liblinear', random_state=1)\n",
    "mdl.fit(train_x, train_y)\n",
    "\n",
    "val_preds = mdl.predict_proba(val_x)[:, 1]\n",
    "\n",
    "val_fpr, val_tpr, val_thresholds = roc_curve(val_y, val_preds)\n",
    "val_auc = auc(val_fpr, val_tpr)\n",
    "\n",
    "print(round(val_auc, 3))"
   ]
  },
  {
   "cell_type": "markdown",
   "id": "fd1f2d7c-bcd6-4bcb-a84d-5dba3dade379",
   "metadata": {},
   "source": [
    "## Question 3\n",
    "\n",
    "Now let's compute precision and recall for our model.\n",
    "\n",
    "* Evaluate the model on the validation dataset on all thresholds from 0.0 to 1.0 with step 0.01\n",
    "* For each threshold, compute precision and recall\n",
    "* Plot them\n",
    "\n",
    "\n",
    "At which threshold precision and recall curves intersect?\n",
    "\n",
    "* 0.1\n",
    "* 0.3\n",
    "* 0.6\n",
    "* 0.8"
   ]
  },
  {
   "cell_type": "code",
   "execution_count": 124,
   "id": "d3fee1fa-c042-4eb3-9fb1-4c111115c7e0",
   "metadata": {},
   "outputs": [
    {
     "data": {
      "text/html": [
       "<div>\n",
       "<style scoped>\n",
       "    .dataframe tbody tr th:only-of-type {\n",
       "        vertical-align: middle;\n",
       "    }\n",
       "\n",
       "    .dataframe tbody tr th {\n",
       "        vertical-align: top;\n",
       "    }\n",
       "\n",
       "    .dataframe thead th {\n",
       "        text-align: right;\n",
       "    }\n",
       "</style>\n",
       "<table border=\"1\" class=\"dataframe\">\n",
       "  <thead>\n",
       "    <tr style=\"text-align: right;\">\n",
       "      <th></th>\n",
       "      <th>threshold</th>\n",
       "      <th>precision</th>\n",
       "      <th>recall</th>\n",
       "    </tr>\n",
       "  </thead>\n",
       "  <tbody>\n",
       "    <tr>\n",
       "      <th>10</th>\n",
       "      <td>0.1</td>\n",
       "      <td>0.925110</td>\n",
       "      <td>0.995261</td>\n",
       "    </tr>\n",
       "    <tr>\n",
       "      <th>30</th>\n",
       "      <td>0.3</td>\n",
       "      <td>0.976190</td>\n",
       "      <td>0.971564</td>\n",
       "    </tr>\n",
       "    <tr>\n",
       "      <th>60</th>\n",
       "      <td>0.6</td>\n",
       "      <td>0.995122</td>\n",
       "      <td>0.966825</td>\n",
       "    </tr>\n",
       "    <tr>\n",
       "      <th>80</th>\n",
       "      <td>0.8</td>\n",
       "      <td>0.995122</td>\n",
       "      <td>0.966825</td>\n",
       "    </tr>\n",
       "  </tbody>\n",
       "</table>\n",
       "</div>"
      ],
      "text/plain": [
       "    threshold  precision    recall\n",
       "10        0.1   0.925110  0.995261\n",
       "30        0.3   0.976190  0.971564\n",
       "60        0.6   0.995122  0.966825\n",
       "80        0.8   0.995122  0.966825"
      ]
     },
     "execution_count": 124,
     "metadata": {},
     "output_type": "execute_result"
    },
    {
     "data": {
      "image/png": "[encoded data removed]",
      "text/plain": [
       "<Figure size 432x288 with 1 Axes>"
      ]
     },
     "metadata": {
      "needs_background": "light"
     },
     "output_type": "display_data"
    }
   ],
   "source": [
    "pr = pd.DataFrame({'threshold': np.arange(0.0, 1.01, 0.01)})\n",
    "\n",
    "def get_precision(tar, preds, t):\n",
    "    actual_pos = tar == 1\n",
    "    pred_pos = preds >= t\n",
    "    \n",
    "    tp = (pred_pos & actual_pos).sum()\n",
    "    fp = (pred_pos & ~actual_pos).sum()\n",
    "    tn = (~pred_pos & ~actual_pos).sum()\n",
    "    fn = (~pred_pos & actual_pos).sum()\n",
    "    \n",
    "    precision = tp / (tp + fp)\n",
    "    recall = tp / (tp + fn)\n",
    "        \n",
    "    return (precision, recall)\n",
    "\n",
    "pr[['precision', 'recall']] = pr.threshold.apply(lambda t: get_precision(val_y, val_preds, t)).apply(pd.Series)\n",
    "\n",
    "options = [0.1, 0.3, 0.6, 0.8]\n",
    "\n",
    "plt.plot(pr.threshold, pr.precision, label='Precision')\n",
    "plt.plot(pr.threshold, pr.recall, label='Recall')\n",
    "plt.vlines(options, 0, 1, colors='red', linestyles='dotted')\n",
    "plt.legend()\n",
    "\n",
    "pr[pr.threshold.isin(options)]"
   ]
  },
  {
   "cell_type": "markdown",
   "id": "9d0ee137-ebee-4d62-839d-a7afbc2fecd8",
   "metadata": {},
   "source": [
    "## Question 4\n",
    "\n",
    "Precision and recall are conflicting - when one grows, the other goes down. That's why they are often combined into the F1 score - a metrics that takes into account both\n",
    "\n",
    "This is the formula for computing $F_1$:\n",
    "\n",
    "$$F_1 = 2 \\cdot \\cfrac{P \\cdot R}{P + R}$$\n",
    "\n",
    "Where $P$ is precision and $R$ is recall.\n",
    "\n",
    "Let's compute F1 for all thresholds from 0.0 to 1.0 with increment 0.01 using the validation set\n",
    "\n",
    "At which threshold F1 is maximal?\n",
    "\n",
    "- 0.1\n",
    "- 0.4\n",
    "- 0.6\n",
    "- 0.7"
   ]
  },
  {
   "cell_type": "code",
   "execution_count": 126,
   "id": "faddf5a8-b613-4551-b50f-7d09e046d0f9",
   "metadata": {},
   "outputs": [
    {
     "data": {
      "text/html": [
       "<div>\n",
       "<style scoped>\n",
       "    .dataframe tbody tr th:only-of-type {\n",
       "        vertical-align: middle;\n",
       "    }\n",
       "\n",
       "    .dataframe tbody tr th {\n",
       "        vertical-align: top;\n",
       "    }\n",
       "\n",
       "    .dataframe thead th {\n",
       "        text-align: right;\n",
       "    }\n",
       "</style>\n",
       "<table border=\"1\" class=\"dataframe\">\n",
       "  <thead>\n",
       "    <tr style=\"text-align: right;\">\n",
       "      <th></th>\n",
       "      <th>threshold</th>\n",
       "      <th>precision</th>\n",
       "      <th>recall</th>\n",
       "      <th>f_one</th>\n",
       "    </tr>\n",
       "  </thead>\n",
       "  <tbody>\n",
       "    <tr>\n",
       "      <th>39</th>\n",
       "      <td>0.39</td>\n",
       "      <td>0.995146</td>\n",
       "      <td>0.971564</td>\n",
       "      <td>0.983213</td>\n",
       "    </tr>\n",
       "    <tr>\n",
       "      <th>38</th>\n",
       "      <td>0.38</td>\n",
       "      <td>0.995146</td>\n",
       "      <td>0.971564</td>\n",
       "      <td>0.983213</td>\n",
       "    </tr>\n",
       "    <tr>\n",
       "      <th>37</th>\n",
       "      <td>0.37</td>\n",
       "      <td>0.995146</td>\n",
       "      <td>0.971564</td>\n",
       "      <td>0.983213</td>\n",
       "    </tr>\n",
       "    <tr>\n",
       "      <th>36</th>\n",
       "      <td>0.36</td>\n",
       "      <td>0.995146</td>\n",
       "      <td>0.971564</td>\n",
       "      <td>0.983213</td>\n",
       "    </tr>\n",
       "    <tr>\n",
       "      <th>35</th>\n",
       "      <td>0.35</td>\n",
       "      <td>0.995146</td>\n",
       "      <td>0.971564</td>\n",
       "      <td>0.983213</td>\n",
       "    </tr>\n",
       "  </tbody>\n",
       "</table>\n",
       "</div>"
      ],
      "text/plain": [
       "    threshold  precision    recall     f_one\n",
       "39       0.39   0.995146  0.971564  0.983213\n",
       "38       0.38   0.995146  0.971564  0.983213\n",
       "37       0.37   0.995146  0.971564  0.983213\n",
       "36       0.36   0.995146  0.971564  0.983213\n",
       "35       0.35   0.995146  0.971564  0.983213"
      ]
     },
     "execution_count": 126,
     "metadata": {},
     "output_type": "execute_result"
    }
   ],
   "source": [
    "def get_f_one(p, r):\n",
    "    return 2 * (p * r) * (1 / (p + r))\n",
    "\n",
    "pr['f_one'] = get_f_one(pr.precision, pr.recall)\n",
    "pr.sort_values(['f_one'], ascending=False).head(5)"
   ]
  },
  {
   "cell_type": "markdown",
   "id": "8f954c81-16f7-43c9-99cc-08376de6f737",
   "metadata": {},
   "source": [
    "## Question 5\n",
    "\n",
    "Use the `KFold` class from Scikit-Learn to evaluate our model on 5 different folds:\n",
    "\n",
    "```\n",
    "KFold(n_splits=5, shuffle=True, random_state=1)\n",
    "```\n",
    "\n",
    "* Iterate over different folds of `df_full_train`\n",
    "* Split the data into train and validation\n",
    "* Train the model on train with these parameters: `LogisticRegression(solver='liblinear', C=1.0, max_iter=1000)`\n",
    "* Use AUC to evaluate the model on validation\n",
    "\n",
    "\n",
    "How large is standard devidation of the AUC scores across different folds?\n",
    "\n",
    "- 0.003\n",
    "- 0.014\n",
    "- 0.09\n",
    "- 0.24"
   ]
  },
  {
   "cell_type": "code",
   "execution_count": 133,
   "id": "fd8380bb-a4d9-43f0-a8b0-13a75c6b3ead",
   "metadata": {},
   "outputs": [],
   "source": [
    "# recall we have DV trained already and have defined x_train\n",
    "\n",
    "def train(y_train, df_train, C=1.0):\n",
    "    x_train = get_x(df_train)\n",
    "\n",
    "    model = LogisticRegression(C=C, max_iter=1000)\n",
    "    model.fit(x_train, y_train)\n",
    "    \n",
    "    return model\n",
    "\n",
    "def predict(df, mdl):\n",
    "    X = get_x(df)\n",
    "    y_pred = mdl.predict_proba(X)[:, 1]\n",
    "\n",
    "    return y_pred"
   ]
  },
  {
   "cell_type": "code",
   "execution_count": 141,
   "id": "1304fe93-86a2-43ef-a492-05fcdf229722",
   "metadata": {},
   "outputs": [
    {
     "data": {
      "text/plain": [
       "0.003"
      ]
     },
     "execution_count": 141,
     "metadata": {},
     "output_type": "execute_result"
    }
   ],
   "source": [
    "kfold = KFold(n_splits=5, shuffle=True, random_state=1)\n",
    "\n",
    "scores = []\n",
    "\n",
    "for train_idx, val_idx in kfold.split(full_train):\n",
    "    df_train = full_train.iloc[train_idx]\n",
    "    df_val = full_train.iloc[val_idx]\n",
    "\n",
    "    y_train = df_train.target\n",
    "    y_val = df_val.target\n",
    "\n",
    "    model = train(y_train, df_train)\n",
    "    y_pred = predict(df_val, model)\n",
    "\n",
    "    auc = roc_auc_score(y_val, y_pred)\n",
    "    scores.append(auc)\n",
    "\n",
    "round(np.std(scores), 3)"
   ]
  },
  {
   "cell_type": "markdown",
   "id": "362ef6cf-b219-4ff5-b00c-80e069da73b9",
   "metadata": {},
   "source": [
    "## Question 6\n",
    "\n",
    "Now let's use 5-Fold cross-validation to find the best parameter C\n",
    "\n",
    "* Iterate over the following C values: `[0.01, 0.1, 1, 10]`\n",
    "* Initialize `KFold` with the same parameters as previously\n",
    "* Use these parametes for the model: `LogisticRegression(solver='liblinear', C=C, max_iter=1000)`\n",
    "* Compute the mean score as well as the std (round the mean and std to 3 decimal digits)\n",
    "\n",
    "\n",
    "Which C leads to the best mean score?\n",
    "\n",
    "- 0.01\n",
    "- 0.1\n",
    "- 1\n",
    "- 10\n",
    "\n",
    "If you have ties, select the score with the lowest std. If you still have ties, select the smallest C"
   ]
  },
  {
   "cell_type": "code",
   "execution_count": 144,
   "id": "7a45aac5-234d-47e3-b30d-583be3c7600d",
   "metadata": {},
   "outputs": [
    {
     "data": {
      "application/vnd.jupyter.widget-view+json": {
       "model_id": "9aa4c18e1f594d6099528842cc12d38a",
       "version_major": 2,
       "version_minor": 0
      },
      "text/plain": [
       "  0%|          | 0/4 [00:00<?, ?it/s]"
      ]
     },
     "metadata": {},
     "output_type": "display_data"
    },
    {
     "data": {
      "text/html": [
       "<div>\n",
       "<style scoped>\n",
       "    .dataframe tbody tr th:only-of-type {\n",
       "        vertical-align: middle;\n",
       "    }\n",
       "\n",
       "    .dataframe tbody tr th {\n",
       "        vertical-align: top;\n",
       "    }\n",
       "\n",
       "    .dataframe thead th {\n",
       "        text-align: right;\n",
       "    }\n",
       "</style>\n",
       "<table border=\"1\" class=\"dataframe\">\n",
       "  <thead>\n",
       "    <tr style=\"text-align: right;\">\n",
       "      <th></th>\n",
       "      <th>C</th>\n",
       "      <th>score_mean</th>\n",
       "      <th>score_std</th>\n",
       "    </tr>\n",
       "  </thead>\n",
       "  <tbody>\n",
       "    <tr>\n",
       "      <th>3</th>\n",
       "      <td>10.00</td>\n",
       "      <td>0.996638</td>\n",
       "      <td>0.002648</td>\n",
       "    </tr>\n",
       "    <tr>\n",
       "      <th>1</th>\n",
       "      <td>0.10</td>\n",
       "      <td>0.996541</td>\n",
       "      <td>0.002727</td>\n",
       "    </tr>\n",
       "    <tr>\n",
       "      <th>2</th>\n",
       "      <td>1.00</td>\n",
       "      <td>0.996472</td>\n",
       "      <td>0.002785</td>\n",
       "    </tr>\n",
       "    <tr>\n",
       "      <th>0</th>\n",
       "      <td>0.01</td>\n",
       "      <td>0.995457</td>\n",
       "      <td>0.003732</td>\n",
       "    </tr>\n",
       "  </tbody>\n",
       "</table>\n",
       "</div>"
      ],
      "text/plain": [
       "       C  score_mean  score_std\n",
       "3  10.00    0.996638   0.002648\n",
       "1   0.10    0.996541   0.002727\n",
       "2   1.00    0.996472   0.002785\n",
       "0   0.01    0.995457   0.003732"
      ]
     },
     "execution_count": 144,
     "metadata": {},
     "output_type": "execute_result"
    }
   ],
   "source": [
    "n_splits = 5\n",
    "\n",
    "c_records = []\n",
    "\n",
    "for C in tqdm([0.01, 0.1, 1, 10]):\n",
    "    kfold = KFold(n_splits=n_splits, shuffle=True, random_state=1)\n",
    "    \n",
    "    scores = []\n",
    "    \n",
    "    for train_idx, val_idx in kfold.split(full_train):\n",
    "        df_train = full_train.iloc[train_idx]\n",
    "        df_val = full_train.iloc[val_idx]\n",
    "\n",
    "        y_train = df_train.target\n",
    "        y_val = df_val.target\n",
    "\n",
    "        model = train(y_train, df_train, C=C)\n",
    "        y_pred = predict(df_val, model)\n",
    "\n",
    "        auc = roc_auc_score(y_val, y_pred)\n",
    "        scores.append(auc)\n",
    "    \n",
    "    dat = {\n",
    "        'C': C,\n",
    "        'score_mean': np.mean(scores),\n",
    "        'score_std': np.std(scores)\n",
    "    }\n",
    "    \n",
    "    c_records.append(dat)\n",
    "    \n",
    "c_df = pd.DataFrame.from_records(c_records)\n",
    "\n",
    "c_df.sort_values(['score_std', 'C'], ascending=True)\n",
    "    "
   ]
  },
  {
   "cell_type": "markdown",
   "id": "ed72835c-2dfc-4f33-b7db-388809f6e69c",
   "metadata": {},
   "source": [
    "## Submit the results\n",
    "\n",
    "* Submit your results here: https://forms.gle/8TfKNRd5Jq7sGK5M9\n",
    "* You can submit your solution multiple times. In this case, only the last submission will be used \n",
    "* If your answer doesn't match options exactly, select the closest one"
   ]
  },
  {
   "cell_type": "markdown",
   "id": "8426ad7c-def5-4afa-9bdc-450f37bd05d7",
   "metadata": {},
   "source": [
    "## Deadline\n",
    "\n",
    "The deadline for submitting is October 3 (Monday), 23:00 CEST.\n",
    "\n",
    "After that, the form will be closed."
   ]
  },
  {
   "cell_type": "code",
   "execution_count": null,
   "id": "432180b3-471c-4e82-ad56-998e5afe4872",
   "metadata": {},
   "outputs": [],
   "source": []
  }
 ],
 "metadata": {
  "kernelspec": {
   "display_name": "Python 3 (ipykernel)",
   "language": "python",
   "name": "python3"
  },
  "language_info": {
   "codemirror_mode": {
    "name": "ipython",
    "version": 3
   },
   "file_extension": ".py",
   "mimetype": "text/x-python",
   "name": "python",
   "nbconvert_exporter": "python",
   "pygments_lexer": "ipython3",
   "version": "3.9.12"
  }
 },
 "nbformat": 4,
 "nbformat_minor": 5
}
