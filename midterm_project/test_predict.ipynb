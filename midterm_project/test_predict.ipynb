{
 "cells": [
  {
   "cell_type": "code",
   "execution_count": 1,
   "id": "3f58923c-f714-4ae0-9209-35a677942371",
   "metadata": {},
   "outputs": [],
   "source": [
    "from pandas import read_csv\n",
    "import requests\n",
    "import pickle\n",
    "\n",
    "raw = read_csv('data/Train-1617360447408-1660719685476.csv')"
   ]
  },
  {
   "cell_type": "code",
   "execution_count": 2,
   "id": "1b88d640-f394-4667-bf2f-3e3d1e5144be",
   "metadata": {},
   "outputs": [],
   "source": [
    "# test prediction\n",
    "model_file = 'model_midterm.bin'\n",
    "\n",
    "with open(model_file, 'rb') as f_in:\n",
    "    temp = pickle.load(f_in)"
   ]
  },
  {
   "cell_type": "code",
   "execution_count": 3,
   "id": "09877fff-8565-4823-946c-5f8b7df9d28d",
   "metadata": {},
   "outputs": [],
   "source": [
    "url = 'http://localhost:9696/predict'\n",
    "\n",
    "patient = raw.iloc[0, ]\n",
    "patient_dict = patient.to_dict()"
   ]
  },
  {
   "cell_type": "code",
   "execution_count": 4,
   "id": "0b8d07a1-03e9-41f2-a359-15d99b7a7701",
   "metadata": {},
   "outputs": [],
   "source": [
    "model_file = 'model_midterm.bin'\n",
    "\n",
    "with open(model_file, 'rb') as f_in:\n",
    "    model, DMatrix = pickle.load(f_in)"
   ]
  },
  {
   "cell_type": "code",
   "execution_count": 6,
   "id": "8c7d2dab-23b1-41a6-9f90-92e5c2880b12",
   "metadata": {},
   "outputs": [
    {
     "name": "stdout",
     "output_type": "stream",
     "text": [
      "{'readmission': True, 'readmission_probability': 0.9004313945770264}\n",
      "Patient ID: 51521940: Likely Readmission\n"
     ]
    }
   ],
   "source": [
    "response = requests.post(url, json=patient_dict).json()\n",
    "print(response)\n",
    "\n",
    "if response['readmission'] == True:\n",
    "    print(f'Patient ID: {patient[\"patient_id\"]}: Likely Readmission')\n",
    "else:\n",
    "    print(f'Patient ID: {patient[\"patient_id\"]}: Unlikely Readmission')"
   ]
  }
 ],
 "metadata": {
  "kernelspec": {
   "display_name": "Python 3 (ipykernel)",
   "language": "python",
   "name": "python3"
  },
  "language_info": {
   "codemirror_mode": {
    "name": "ipython",
    "version": 3
   },
   "file_extension": ".py",
   "mimetype": "text/x-python",
   "name": "python",
   "nbconvert_exporter": "python",
   "pygments_lexer": "ipython3",
   "version": "3.9.12"
  }
 },
 "nbformat": 4,
 "nbformat_minor": 5
}
