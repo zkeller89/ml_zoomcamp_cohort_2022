{
 "cells": [
  {
   "cell_type": "code",
   "execution_count": 10,
   "id": "4a6a3c16-5f84-4f2e-b476-16f5946066e8",
   "metadata": {},
   "outputs": [],
   "source": [
    "import os\n",
    "import sklearn\n",
    "import json\n",
    "import pickle\n",
    "import requests"
   ]
  },
  {
   "cell_type": "markdown",
   "id": "4c0c510d-0436-49b2-8509-29810785cdce",
   "metadata": {},
   "source": [
    "## Homework\n",
    "\n",
    "In this homework, we will use Credit Card Data from [the previous homework](https://github.com/alexeygrigorev/mlbookcamp-code/blob/master/course-zoomcamp/cohorts/2022/04-evaluation/homework.md).\n",
    "\n",
    "> Note: sometimes your answer doesn't match one of the options exactly. That's fine. \n",
    "Select the option that's closest to your solution."
   ]
  },
  {
   "cell_type": "markdown",
   "id": "18950ad6-3a3f-4c91-a7bb-da8536af7227",
   "metadata": {},
   "source": [
    "## Question 1\n",
    "\n",
    "* Install Pipenv\n",
    "* What's the version of pipenv you installed?\n",
    "* Use `--version` to find out"
   ]
  },
  {
   "cell_type": "code",
   "execution_count": 2,
   "id": "c4061492-82c7-427b-9392-78ac7cbadc0b",
   "metadata": {},
   "outputs": [
    {
     "name": "stdout",
     "output_type": "stream",
     "text": [
      "\u001b[1mpipenv\u001b[0m, version 2022.10.4\n",
      "\u001b[0m"
     ]
    }
   ],
   "source": [
    "!pipenv --version"
   ]
  },
  {
   "cell_type": "markdown",
   "id": "b33a7ef5-6a0a-4fe6-b710-de7b773f5895",
   "metadata": {},
   "source": [
    "## Question 2\n",
    "\n",
    "* Use Pipenv to install Scikit-Learn version 1.0.2\n",
    "* What's the first hash for scikit-learn you get in Pipfile.lock?\n",
    "\n",
    "Note: you should create an empty folder for homework\n",
    "and do it there. "
   ]
  },
  {
   "cell_type": "code",
   "execution_count": 3,
   "id": "d1042626-a118-44ce-a366-0a611ad06e51",
   "metadata": {},
   "outputs": [
    {
     "name": "stdout",
     "output_type": "stream",
     "text": [
      "1.0.2\n"
     ]
    }
   ],
   "source": [
    "print(sklearn.__version__)"
   ]
  },
  {
   "cell_type": "code",
   "execution_count": 4,
   "id": "7e433519-4114-4dd0-a46c-d194b2e6b029",
   "metadata": {},
   "outputs": [
    {
     "name": "stdout",
     "output_type": "stream",
     "text": [
      "sha256:08ef968f6b72033c16c479c966bf37ccd49b06ea91b765e1cc27afefe723920b\n"
     ]
    }
   ],
   "source": [
    "with open('../Pipfile.lock') as pipfile:\n",
    "    pip = json.load(pipfile)\n",
    "\n",
    "print(pip['default']['scikit-learn']['hashes'][0])"
   ]
  },
  {
   "cell_type": "markdown",
   "id": "70969b4a-4340-464e-886a-8a16a81deaea",
   "metadata": {},
   "source": [
    "## Models\n",
    "\n",
    "We've prepared a dictionary vectorizer and a model.\n",
    "\n",
    "They were trained (roughly) using this code:\n",
    "\n",
    "```python\n",
    "features = ['reports', 'share', 'expenditure', 'owner']\n",
    "dicts = df[features].to_dict(orient='records')\n",
    "\n",
    "dv = DictVectorizer(sparse=False)\n",
    "X = dv.fit_transform(dicts)\n",
    "\n",
    "model = LogisticRegression(solver='liblinear').fit(X, y)\n",
    "```\n",
    "\n",
    "> **Note**: You don't need to train the model. This code is just for your reference.\n",
    "\n",
    "And then saved with Pickle. Download them:\n",
    "\n",
    "* [DictVectorizer](https://github.com/alexeygrigorev/mlbookcamp-code/blob/master/course-zoomcamp/cohorts/2022/05-deployment/homework/dv.bin?raw=true)\n",
    "* [LogisticRegression](https://github.com/alexeygrigorev/mlbookcamp-code/blob/master/course-zoomcamp/cohorts/2022/05-deployment/homework/model1.bin?raw=true)\n",
    "\n",
    "With `wget`:\n",
    "\n",
    "```bash\n",
    "PREFIX=https://raw.githubusercontent.com/alexeygrigorev/mlbookcamp-code/master/course-zoomcamp/cohorts/2022/05-deployment/homework\n",
    "wget $PREFIX/model1.bin\n",
    "wget $PREFIX/dv.bin\n",
    "\n",
    "```"
   ]
  },
  {
   "cell_type": "code",
   "execution_count": 7,
   "id": "3ceafdd2-d680-440a-8261-4bd24197c2e5",
   "metadata": {},
   "outputs": [],
   "source": [
    "if not os.path.isfile('model1.bin'):\n",
    "    !PREFIX=https://raw.githubusercontent.com/alexeygrigorev/mlbookcamp-code/master/course-zoomcamp/cohorts/2022/05-deployment/homework && \\\n",
    "    wget $PREFIX/model1.bin\n",
    "        \n",
    "if not os.path.isfile('dv.bin'):\n",
    "    !PREFIX=https://raw.githubusercontent.com/alexeygrigorev/mlbookcamp-code/master/course-zoomcamp/cohorts/2022/05-deployment/homework && \\\n",
    "    wget $PREFIX/dv.bin"
   ]
  },
  {
   "cell_type": "markdown",
   "id": "10826050-867f-4756-b268-77c78cf79530",
   "metadata": {},
   "source": [
    "## Question 3\n",
    "\n",
    "Let's use these models!\n",
    "\n",
    "* Write a script for loading these models with pickle\n",
    "* Score this client:\n",
    "\n",
    "```json\n",
    "{\"reports\": 0, \"share\": 0.001694, \"expenditure\": 0.12, \"owner\": \"yes\"}\n",
    "```\n",
    "\n",
    "What's the probability that this client will get a credit card? \n",
    "\n",
    "* 0.162\n",
    "* 0.391\n",
    "* 0.601\n",
    "* 0.993\n",
    "\n",
    "If you're getting errors when unpickling the files, check their checksum:\n",
    "\n",
    "```bash\n",
    "$ md5sum model1.bin dv.bin\n",
    "3f57f3ebfdf57a9e1368dcd0f28a4a14  model1.bin\n",
    "6b7cded86a52af7e81859647fa3a5c2e  dv.bin\n",
    "```"
   ]
  },
  {
   "cell_type": "code",
   "execution_count": 5,
   "id": "d348cd69",
   "metadata": {},
   "outputs": [],
   "source": [
    "# read in binaries\n",
    "with open('model1.bin', 'rb') as f_in:\n",
    "    model = pickle.load(f_in)\n",
    "    \n",
    "with open('dv.bin', 'rb') as f_in:\n",
    "    dv = pickle.load(f_in)"
   ]
  },
  {
   "cell_type": "code",
   "execution_count": 6,
   "id": "cf4cec31",
   "metadata": {},
   "outputs": [
    {
     "name": "stdout",
     "output_type": "stream",
     "text": [
      "0.162\n"
     ]
    }
   ],
   "source": [
    "client = {\"reports\": 0, \"share\": 0.001694, \"expenditure\": 0.12, \"owner\": \"yes\"}\n",
    "\n",
    "X = dv.transform([client])\n",
    "y_pred = model.predict_proba(X)[0, 1]\n",
    "\n",
    "print(round(y_pred, 3))"
   ]
  },
  {
   "cell_type": "markdown",
   "id": "cdead72b-7e9e-4736-9aaa-3186709ef176",
   "metadata": {},
   "source": [
    "## Question 4\n",
    "\n",
    "Now let's serve this model as a web service\n",
    "\n",
    "* Install Flask and gunicorn (or waitress, if you're on Windows)\n",
    "* Write Flask code for serving the model\n",
    "* Now score this client using `requests`:\n",
    "\n",
    "```python\n",
    "url = \"YOUR_URL\"\n",
    "client = {\"reports\": 0, \"share\": 0.245, \"expenditure\": 3.438, \"owner\": \"yes\"}\n",
    "requests.post(url, json=client).json()\n",
    "```\n",
    "\n",
    "What's the probability that this client will get a credit card?\n",
    "\n",
    "* 0.274\n",
    "* 0.484\n",
    "* 0.698\n",
    "* 0.928"
   ]
  },
  {
   "cell_type": "code",
   "execution_count": 12,
   "id": "c12ec555-e56e-4235-a09a-2899eadc11a2",
   "metadata": {},
   "outputs": [
    {
     "data": {
      "text/plain": [
       "{'get_cc': True, 'get_cc_probability': 0.9282218018527452}"
      ]
     },
     "execution_count": 12,
     "metadata": {},
     "output_type": "execute_result"
    }
   ],
   "source": [
    "url = 'http://localhost:9696/predict'\n",
    "client = {\"reports\": 0, \"share\": 0.245, \"expenditure\": 3.438, \"owner\": \"yes\"}\n",
    "requests.post(url, json=client).json()"
   ]
  },
  {
   "cell_type": "markdown",
   "id": "b085d726-4d70-4246-b25d-c923beed7257",
   "metadata": {},
   "source": [
    "## Docker\n",
    "\n",
    "Install [Docker](https://github.com/alexeygrigorev/mlbookcamp-code/blob/master/course-zoomcamp/05-deployment/06-docker.md). We will use it for the next two questions.\n",
    "\n",
    "For these questions, we prepared a base image: `svizor/zoomcamp-model:3.9.12-slim`. \n",
    "You'll need to use it (see Question 5 for an example).\n",
    "\n",
    "This image is based on `python:3.9.12-slim` and has a logistic regression model \n",
    "(a different one) as well a dictionary vectorizer inside. \n",
    "\n",
    "This is how the Dockerfile for this image looks like:\n",
    "\n",
    "```docker \n",
    "FROM python:3.9.12-slim\n",
    "WORKDIR /app\n",
    "COPY [\"model2.bin\", \"dv.bin\", \"./\"]\n",
    "```\n",
    "\n",
    "We already built it and then pushed it to [`svizor/zoomcamp-model:3.9.12-slim`](https://hub.docker.com/r/svizor/zoomcamp-model).\n",
    "\n",
    "> **Note**: You don't need to build this docker image, it's just for your reference."
   ]
  },
  {
   "cell_type": "markdown",
   "id": "b9c77e8b-8d28-4fa4-8e07-b86d5297728f",
   "metadata": {},
   "source": [
    "## Question 5\n",
    "\n",
    "Download the base image `svizor/zoomcamp-model:3.9.12-slim`. You can easily make it by using [docker pull](https://docs.docker.com/engine/reference/commandline/pull/) command.\n",
    "\n",
    "So what's the size of this base image?\n",
    "\n",
    "* 15 Mb\n",
    "* 125 Mb\n",
    "* 275 Mb\n",
    "* 415 Mb\n",
    "\n",
    "You can get this information when running `docker images` - it'll be in the \"SIZE\" column."
   ]
  },
  {
   "cell_type": "code",
   "execution_count": 14,
   "id": "1e7b8d78-13dc-4129-af61-ae67a741b10d",
   "metadata": {},
   "outputs": [
    {
     "name": "stdout",
     "output_type": "stream",
     "text": [
      "REPOSITORY              TAG           IMAGE ID       CREATED      SIZE\n",
      "svizor/zoomcamp-model   3.9.12-slim   571a6fdc554b   8 days ago   125MB\n"
     ]
    }
   ],
   "source": [
    "!sudo docker images"
   ]
  },
  {
   "cell_type": "markdown",
   "id": "5435e037-9001-4f3f-bb6f-aeb08f47f34b",
   "metadata": {},
   "source": [
    "## Dockerfile\n",
    "\n",
    "Now create your own Dockerfile based on the image we prepared.\n",
    "\n",
    "It should start like that:\n",
    "\n",
    "```docker\n",
    "FROM svizor/zoomcamp-model:3.9.12-slim\n",
    "# add your stuff here\n",
    "```\n",
    "\n",
    "Now complete it:\n",
    "\n",
    "* Install all the dependencies form the Pipenv file\n",
    "* Copy your Flask script\n",
    "* Run it with Gunicorn \n",
    "\n",
    "After that, you can build your docker image."
   ]
  },
  {
   "cell_type": "markdown",
   "id": "0b695022-c2de-4c17-86d0-0d862169ee62",
   "metadata": {},
   "source": [
    "## Question 6\n",
    "\n",
    "Let's run your docker container!\n",
    "\n",
    "After running it, score this client once again:\n",
    "\n",
    "```python\n",
    "url = \"YOUR_URL\"\n",
    "client = {\"reports\": 0, \"share\": 0.245, \"expenditure\": 3.438, \"owner\": \"yes\"}\n",
    "requests.post(url, json=client).json()\n",
    "```\n",
    "\n",
    "What's the probability that this client will get a credit card now?\n",
    "\n",
    "* 0.289\n",
    "* 0.502\n",
    "* 0.769\n",
    "* 0.972"
   ]
  },
  {
   "cell_type": "code",
   "execution_count": 18,
   "id": "d689211c-9d2c-4680-8ecd-24bc86f501a9",
   "metadata": {},
   "outputs": [
    {
     "data": {
      "text/plain": [
       "{'get_cc': True, 'get_cc_probability': 0.7692649226628628}"
      ]
     },
     "execution_count": 18,
     "metadata": {},
     "output_type": "execute_result"
    }
   ],
   "source": [
    "url = 'http://localhost:9696/predict_docker'\n",
    "client = {\"reports\": 0, \"share\": 0.245, \"expenditure\": 3.438, \"owner\": \"yes\"}\n",
    "requests.post(url, json=client).json()"
   ]
  },
  {
   "cell_type": "markdown",
   "id": "d65d0d6a-7346-4dcc-8371-26e3827b027d",
   "metadata": {},
   "source": [
    "## Submit the results\n",
    "\n",
    "* Submit your results here: https://forms.gle/jU2we8f9WeLgX3qa6\n",
    "* You can submit your solution multiple times. In this case, only the last submission will be used \n",
    "* If your answer doesn't match options exactly, select the closest one"
   ]
  },
  {
   "cell_type": "markdown",
   "id": "06b3c720-e20f-4b5e-9ad8-80f28a5f0559",
   "metadata": {},
   "source": [
    "## Deadline\n",
    "\n",
    "The deadline for submitting is **10 October 2022 (Monday), 23:00 CEST (Berlin time)**. \n",
    "\n",
    "After that, the form will be closed."
   ]
  },
  {
   "cell_type": "code",
   "execution_count": null,
   "id": "96c75aa5-0660-40d8-aa84-d927323fc000",
   "metadata": {},
   "outputs": [],
   "source": []
  }
 ],
 "metadata": {
  "kernelspec": {
   "display_name": "Python 3 (ipykernel)",
   "language": "python",
   "name": "python3"
  },
  "language_info": {
   "codemirror_mode": {
    "name": "ipython",
    "version": 3
   },
   "file_extension": ".py",
   "mimetype": "text/x-python",
   "name": "python",
   "nbconvert_exporter": "python",
   "pygments_lexer": "ipython3",
   "version": "3.9.12"
  }
 },
 "nbformat": 4,
 "nbformat_minor": 5
}
