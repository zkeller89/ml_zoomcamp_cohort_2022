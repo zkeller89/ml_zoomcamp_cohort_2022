{
 "cells": [
  {
   "cell_type": "code",
   "execution_count": 1,
   "id": "76ab9a57-6af2-41ef-adbf-93abce110688",
   "metadata": {
    "execution": {
     "iopub.execute_input": "2022-11-21T13:59:02.707464Z",
     "iopub.status.busy": "2022-11-21T13:59:02.707032Z",
     "iopub.status.idle": "2022-11-21T13:59:10.798585Z",
     "shell.execute_reply": "2022-11-21T13:59:10.797810Z",
     "shell.execute_reply.started": "2022-11-21T13:59:02.707398Z"
    }
   },
   "outputs": [
    {
     "name": "stderr",
     "output_type": "stream",
     "text": [
      "2022-11-21 13:59:04.282851: I tensorflow/core/util/util.cc:169] oneDNN custom operations are on. You may see slightly different numerical results due to floating-point round-off errors from different computation orders. To turn them off, set the environment variable `TF_ENABLE_ONEDNN_OPTS=0`.\n"
     ]
    }
   ],
   "source": [
    "import numpy as np\n",
    "import matplotlib.pyplot as plt\n",
    "\n",
    "%matplotlib inline\n",
    "\n",
    "import tensorflow as tf\n",
    "from tensorflow import keras\n",
    "\n",
    "from tensorflow.keras.preprocessing.image import ImageDataGenerator"
   ]
  },
  {
   "cell_type": "markdown",
   "id": "3d9c1f4d-1f42-4d4c-98cd-7f95d6ac791f",
   "metadata": {},
   "source": [
    "## Homework\n",
    "\n",
    "### Dataset\n",
    "\n",
    "In this homework, we'll build a model for predicting if we have an image of a dino or a dragon. For this, we will use the \"Dino or Dragon?\" dataset that can be downloaded from [Kaggle](https://www.kaggle.com/datasets/agrigorev/dino-or-dragon). \n",
    "\n",
    "You can get a wget-able version [here](https://github.com/alexeygrigorev/dino-or-dragon/releases/download/data/dino-dragon.zip):\n",
    "\n",
    "```bash\n",
    "wget https://github.com/alexeygrigorev/dino-or-dragon/releases/download/data/dino-dragon.zip\n",
    "unzip dino-dragon.zip\n",
    "```\n",
    "\n",
    "In the lectures we saw how to use a pre-trained neural network. In the homework, we'll train a much smaller model from scratch. \n",
    "\n",
    "**Note:** You will need an environment with a GPU for this homework. We recommend to use [Saturn Cloud](https://bit.ly/saturn-mlzoomcamp). \n",
    "You can also use a computer without a GPU (e.g. your laptop), but it will be slower."
   ]
  },
  {
   "cell_type": "code",
   "execution_count": 2,
   "id": "9646cc32-6837-4a16-9191-b115ef39d5a6",
   "metadata": {
    "execution": {
     "iopub.execute_input": "2022-11-21T13:59:10.803188Z",
     "iopub.status.busy": "2022-11-21T13:59:10.802682Z",
     "iopub.status.idle": "2022-11-21T13:59:10.806815Z",
     "shell.execute_reply": "2022-11-21T13:59:10.805872Z",
     "shell.execute_reply.started": "2022-11-21T13:59:10.803163Z"
    },
    "tags": []
   },
   "outputs": [],
   "source": [
    "import os"
   ]
  },
  {
   "cell_type": "code",
   "execution_count": 3,
   "id": "2bb31cb1-f80e-43af-a752-4c38c98ec86a",
   "metadata": {
    "execution": {
     "iopub.execute_input": "2022-11-21T13:59:10.807966Z",
     "iopub.status.busy": "2022-11-21T13:59:10.807712Z",
     "iopub.status.idle": "2022-11-21T13:59:10.812851Z",
     "shell.execute_reply": "2022-11-21T13:59:10.812100Z",
     "shell.execute_reply.started": "2022-11-21T13:59:10.807945Z"
    },
    "tags": []
   },
   "outputs": [],
   "source": [
    "if not os.path.isfile('dino-dragon.zip'):\n",
    "    !wget https://github.com/alexeygrigorev/dino-or-dragon/releases/download/data/dino-dragon.zip\n",
    "    !unzip dino-dragon.zip"
   ]
  },
  {
   "cell_type": "markdown",
   "id": "9a5df188-8c73-4c7a-bc4e-6e1bfa0fdf87",
   "metadata": {},
   "source": [
    "### Data Preparation\n",
    "\n",
    "The dataset contains around 1900 images of dinos and around 1900 images of dragons. \n",
    "\n",
    "The dataset contains separate folders for training and test sets. "
   ]
  },
  {
   "cell_type": "markdown",
   "id": "d819b885-868a-43b5-a007-021f178292c1",
   "metadata": {},
   "source": [
    "### Model\n",
    "\n",
    "For this homework we will use Convolutional Neural Network (CNN). Like in the lectures, we'll use Keras.\n",
    "\n",
    "You need to develop the model with following structure:\n",
    "\n",
    "* The shape for input should be `(150, 150, 3)`\n",
    "* Next, create a convolutional layer ([`Conv2D`](https://keras.io/api/layers/convolution_layers/convolution2d/)):\n",
    "    * Use 32 filters\n",
    "    * Kernel size should be `(3, 3)` (that's the size of the filter)\n",
    "    * Use `'relu'` as activation \n",
    "* Reduce the size of the feature map with max pooling ([`MaxPooling2D`](https://keras.io/api/layers/pooling_layers/max_pooling2d/))\n",
    "    * Set the pooling size to `(2, 2)`\n",
    "* Turn the multi-dimensional result into vectors using a [`Flatten`](https://keras.io/api/layers/reshaping_layers/flatten/) layer\n",
    "* Next, add a `Dense` layer with 64 neurons and `'relu'` activation\n",
    "* Finally, create the `Dense` layer with 1 neuron - this will be the output\n",
    "    * The output layer should have an activation - use the appropriate activation for the binary classification case\n",
    "\n",
    "As optimizer use [`SGD`](https://keras.io/api/optimizers/sgd/) with the following parameters:\n",
    "\n",
    "* `SGD(lr=0.002, momentum=0.8)`\n",
    "\n",
    "For clarification about kernel size and max pooling, check [Office Hours](https://www.youtube.com/watch?v=1WRgdBTUaAc)."
   ]
  },
  {
   "cell_type": "code",
   "execution_count": 4,
   "id": "3d4223f3-b366-4c06-872e-81f6b46e812c",
   "metadata": {
    "execution": {
     "iopub.execute_input": "2022-11-21T13:59:10.814511Z",
     "iopub.status.busy": "2022-11-21T13:59:10.814059Z",
     "iopub.status.idle": "2022-11-21T13:59:10.819713Z",
     "shell.execute_reply": "2022-11-21T13:59:10.818948Z",
     "shell.execute_reply.started": "2022-11-21T13:59:10.814449Z"
    },
    "tags": []
   },
   "outputs": [],
   "source": [
    "optimizer = keras.optimizers.SGD(learning_rate=0.002, momentum=0.8)\n",
    "loss = keras.losses.binary_crossentropy\n",
    "input_shape = (150, 150, 3)"
   ]
  },
  {
   "cell_type": "code",
   "execution_count": 5,
   "id": "c990bde4-0fbc-413f-83fe-5c50008bcb32",
   "metadata": {
    "execution": {
     "iopub.execute_input": "2022-11-21T13:59:10.823038Z",
     "iopub.status.busy": "2022-11-21T13:59:10.822641Z",
     "iopub.status.idle": "2022-11-21T13:59:11.930365Z",
     "shell.execute_reply": "2022-11-21T13:59:11.929536Z",
     "shell.execute_reply.started": "2022-11-21T13:59:10.823005Z"
    },
    "tags": []
   },
   "outputs": [
    {
     "name": "stderr",
     "output_type": "stream",
     "text": [
      "2022-11-21 13:59:10.924883: I tensorflow/stream_executor/cuda/cuda_gpu_executor.cc:975] successful NUMA node read from SysFS had negative value (-1), but there must be at least one NUMA node, so returning NUMA node zero\n",
      "2022-11-21 13:59:10.932034: I tensorflow/stream_executor/cuda/cuda_gpu_executor.cc:975] successful NUMA node read from SysFS had negative value (-1), but there must be at least one NUMA node, so returning NUMA node zero\n",
      "2022-11-21 13:59:10.932764: I tensorflow/stream_executor/cuda/cuda_gpu_executor.cc:975] successful NUMA node read from SysFS had negative value (-1), but there must be at least one NUMA node, so returning NUMA node zero\n",
      "2022-11-21 13:59:10.933754: I tensorflow/core/platform/cpu_feature_guard.cc:193] This TensorFlow binary is optimized with oneAPI Deep Neural Network Library (oneDNN) to use the following CPU instructions in performance-critical operations:  AVX2 AVX512F AVX512_VNNI FMA\n",
      "To enable them in other operations, rebuild TensorFlow with the appropriate compiler flags.\n",
      "2022-11-21 13:59:10.934133: I tensorflow/stream_executor/cuda/cuda_gpu_executor.cc:975] successful NUMA node read from SysFS had negative value (-1), but there must be at least one NUMA node, so returning NUMA node zero\n",
      "2022-11-21 13:59:10.937032: I tensorflow/stream_executor/cuda/cuda_gpu_executor.cc:975] successful NUMA node read from SysFS had negative value (-1), but there must be at least one NUMA node, so returning NUMA node zero\n",
      "2022-11-21 13:59:10.937686: I tensorflow/stream_executor/cuda/cuda_gpu_executor.cc:975] successful NUMA node read from SysFS had negative value (-1), but there must be at least one NUMA node, so returning NUMA node zero\n",
      "2022-11-21 13:59:11.625296: I tensorflow/stream_executor/cuda/cuda_gpu_executor.cc:975] successful NUMA node read from SysFS had negative value (-1), but there must be at least one NUMA node, so returning NUMA node zero\n",
      "2022-11-21 13:59:11.626030: I tensorflow/stream_executor/cuda/cuda_gpu_executor.cc:975] successful NUMA node read from SysFS had negative value (-1), but there must be at least one NUMA node, so returning NUMA node zero\n",
      "2022-11-21 13:59:11.626709: I tensorflow/stream_executor/cuda/cuda_gpu_executor.cc:975] successful NUMA node read from SysFS had negative value (-1), but there must be at least one NUMA node, so returning NUMA node zero\n",
      "2022-11-21 13:59:11.627270: I tensorflow/core/common_runtime/gpu/gpu_device.cc:1532] Created device /job:localhost/replica:0/task:0/device:GPU:0 with 13795 MB memory:  -> device: 0, name: Tesla T4, pci bus id: 0000:00:1e.0, compute capability: 7.5\n"
     ]
    }
   ],
   "source": [
    "inputs = keras.Input(shape=input_shape)\n",
    "\n",
    "conv = keras.layers.Conv2D(\n",
    "    filters=32,\n",
    "    kernel_size=(3, 3),\n",
    "    activation='relu'\n",
    ")(inputs)\n",
    "\n",
    "pool = keras.layers.MaxPooling2D(\n",
    "    pool_size=(2, 2)\n",
    ")(conv)\n",
    "\n",
    "flat = keras.layers.Flatten()(pool)\n",
    "dense = keras.layers.Dense(64, activation='relu')(flat)\n",
    "outputs = keras.layers.Dense(1, activation=tf.nn.sigmoid)(dense)\n",
    "\n",
    "model = keras.Model(inputs, outputs)\n",
    "\n",
    "model.compile(\n",
    "    optimizer=optimizer,\n",
    "    loss=loss,\n",
    "    metrics=['accuracy']\n",
    ")"
   ]
  },
  {
   "cell_type": "markdown",
   "id": "804fe383-7101-4842-98bc-824934eea2fb",
   "metadata": {},
   "source": [
    "### Question 1\n",
    "\n",
    "Since we have a binary classification problem, what is the best loss function for us?\n",
    "\n",
    "- `binary crossentropy`\n",
    "- `focal loss`\n",
    "- `mean squared error`\n",
    "- `categorical crossentropy`\n",
    "\n",
    "Note: since we specify an activation for the output layer, we don't need to set `from_logits=True`"
   ]
  },
  {
   "cell_type": "markdown",
   "id": "7d70ebbe-d216-46c1-a7c4-07b1363f97f3",
   "metadata": {},
   "source": [
    "* Binary Crossentropy (focal for cass imbalance, MSE for regression, categorical crossentropy for muti-class)"
   ]
  },
  {
   "cell_type": "markdown",
   "id": "985e81d8-c481-4fb5-8fcb-9d17210e501b",
   "metadata": {},
   "source": [
    "### Question 2\n",
    "\n",
    "What's the total number of parameters of the model? You can use the `summary` method for that. \n",
    "\n",
    "- 9215873\n",
    "- 11215873\n",
    "- 14215873\n",
    "- 19215873"
   ]
  },
  {
   "cell_type": "code",
   "execution_count": 6,
   "id": "5a50c9e9-ac49-4585-a5c4-eb32869a54be",
   "metadata": {
    "execution": {
     "iopub.execute_input": "2022-11-21T13:59:11.932364Z",
     "iopub.status.busy": "2022-11-21T13:59:11.931630Z",
     "iopub.status.idle": "2022-11-21T13:59:11.950063Z",
     "shell.execute_reply": "2022-11-21T13:59:11.949315Z",
     "shell.execute_reply.started": "2022-11-21T13:59:11.932328Z"
    },
    "tags": []
   },
   "outputs": [
    {
     "name": "stdout",
     "output_type": "stream",
     "text": [
      "Model: \"model\"\n",
      "_________________________________________________________________\n",
      " Layer (type)                Output Shape              Param #   \n",
      "=================================================================\n",
      " input_1 (InputLayer)        [(None, 150, 150, 3)]     0         \n",
      "                                                                 \n",
      " conv2d (Conv2D)             (None, 148, 148, 32)      896       \n",
      "                                                                 \n",
      " max_pooling2d (MaxPooling2D  (None, 74, 74, 32)       0         \n",
      " )                                                               \n",
      "                                                                 \n",
      " flatten (Flatten)           (None, 175232)            0         \n",
      "                                                                 \n",
      " dense (Dense)               (None, 64)                11214912  \n",
      "                                                                 \n",
      " dense_1 (Dense)             (None, 1)                 65        \n",
      "                                                                 \n",
      "=================================================================\n",
      "Total params: 11,215,873\n",
      "Trainable params: 11,215,873\n",
      "Non-trainable params: 0\n",
      "_________________________________________________________________\n"
     ]
    }
   ],
   "source": [
    "model.summary()"
   ]
  },
  {
   "cell_type": "markdown",
   "id": "cfe259ea-9340-4bc8-b852-913bd52a465b",
   "metadata": {},
   "source": [
    "### Generators and Training\n",
    "\n",
    "For the next two questions, use the following data generator for both train and test sets:\n",
    "\n",
    "```python\n",
    "ImageDataGenerator(rescale=1./255)\n",
    "```\n",
    "\n",
    "* We don't need to do any additional pre-processing for the images.\n",
    "* When reading the data from train/val directories, check the `class_mode` parameter. Which value should it be for a binary classification problem?\n",
    "* Use `batch_size=20`\n",
    "* Use `shuffle=True` for both training and test sets. \n",
    "\n",
    "For training use `.fit()` with the following params:\n",
    "\n",
    "```python\n",
    "model.fit(\n",
    "    train_generator,\n",
    "    epochs=10,\n",
    "    validation_data=test_generator\n",
    ")\n",
    "```"
   ]
  },
  {
   "cell_type": "code",
   "execution_count": 7,
   "id": "f8c51ee1-e794-49a1-9611-0977eac0d88d",
   "metadata": {
    "execution": {
     "iopub.execute_input": "2022-11-21T13:59:11.951978Z",
     "iopub.status.busy": "2022-11-21T13:59:11.951292Z",
     "iopub.status.idle": "2022-11-21T13:59:12.027447Z",
     "shell.execute_reply": "2022-11-21T13:59:12.026511Z",
     "shell.execute_reply.started": "2022-11-21T13:59:11.951941Z"
    },
    "tags": []
   },
   "outputs": [
    {
     "name": "stdout",
     "output_type": "stream",
     "text": [
      "Found 1594 images belonging to 2 classes.\n",
      "Found 394 images belonging to 2 classes.\n"
     ]
    }
   ],
   "source": [
    "train_gen = ImageDataGenerator(rescale=1./255)\n",
    "test_gen = ImageDataGenerator(rescale=1./255)\n",
    "\n",
    "train_ds = train_gen.flow_from_directory(\n",
    "    'train/',\n",
    "    class_mode='binary',\n",
    "    target_size=(150, 150),\n",
    "    batch_size=20,\n",
    "    shuffle=True\n",
    ")\n",
    "\n",
    "test_ds = train_gen.flow_from_directory(\n",
    "    'test/',\n",
    "    class_mode='binary',\n",
    "    target_size=(150, 150),\n",
    "    batch_size=20,\n",
    "    shuffle=True\n",
    ")"
   ]
  },
  {
   "cell_type": "code",
   "execution_count": 8,
   "id": "70635d9c-447a-4253-8227-fd4148b8c0d4",
   "metadata": {
    "execution": {
     "iopub.execute_input": "2022-11-21T13:59:12.028771Z",
     "iopub.status.busy": "2022-11-21T13:59:12.028480Z",
     "iopub.status.idle": "2022-11-21T14:00:44.547219Z",
     "shell.execute_reply": "2022-11-21T14:00:44.546406Z",
     "shell.execute_reply.started": "2022-11-21T13:59:12.028748Z"
    },
    "tags": []
   },
   "outputs": [
    {
     "name": "stdout",
     "output_type": "stream",
     "text": [
      "Epoch 1/10\n"
     ]
    },
    {
     "name": "stderr",
     "output_type": "stream",
     "text": [
      "2022-11-21 13:59:13.361962: I tensorflow/stream_executor/cuda/cuda_dnn.cc:384] Loaded cuDNN version 8100\n",
      "2022-11-21 13:59:14.010000: I tensorflow/core/platform/default/subprocess.cc:304] Start cannot spawn child process: No such file or directory\n",
      "2022-11-21 13:59:14.011002: I tensorflow/core/platform/default/subprocess.cc:304] Start cannot spawn child process: No such file or directory\n",
      "2022-11-21 13:59:14.011048: W tensorflow/stream_executor/gpu/asm_compiler.cc:80] Couldn't get ptxas version string: INTERNAL: Couldn't invoke ptxas --version\n",
      "2022-11-21 13:59:14.012064: I tensorflow/core/platform/default/subprocess.cc:304] Start cannot spawn child process: No such file or directory\n",
      "2022-11-21 13:59:14.012145: W tensorflow/stream_executor/gpu/redzone_allocator.cc:314] INTERNAL: Failed to launch ptxas\n",
      "Relying on driver to perform ptx compilation. \n",
      "Modify $PATH to customize ptxas location.\n",
      "This message will be only logged once.\n"
     ]
    },
    {
     "name": "stdout",
     "output_type": "stream",
     "text": [
      "80/80 [==============================] - 12s 125ms/step - loss: 0.6975 - accuracy: 0.5163 - val_loss: 0.6842 - val_accuracy: 0.5025\n",
      "Epoch 2/10\n",
      "80/80 [==============================] - 9s 108ms/step - loss: 0.6731 - accuracy: 0.5997 - val_loss: 0.6426 - val_accuracy: 0.7716\n",
      "Epoch 3/10\n",
      "80/80 [==============================] - 9s 108ms/step - loss: 0.6013 - accuracy: 0.7102 - val_loss: 0.5376 - val_accuracy: 0.8046\n",
      "Epoch 4/10\n",
      "80/80 [==============================] - 9s 109ms/step - loss: 0.4891 - accuracy: 0.7880 - val_loss: 0.4675 - val_accuracy: 0.8071\n",
      "Epoch 5/10\n",
      "80/80 [==============================] - 9s 108ms/step - loss: 0.4283 - accuracy: 0.8218 - val_loss: 0.3975 - val_accuracy: 0.8401\n",
      "Epoch 6/10\n",
      "80/80 [==============================] - 9s 108ms/step - loss: 0.3793 - accuracy: 0.8381 - val_loss: 0.4612 - val_accuracy: 0.7843\n",
      "Epoch 7/10\n",
      "80/80 [==============================] - 9s 109ms/step - loss: 0.3274 - accuracy: 0.8676 - val_loss: 0.3409 - val_accuracy: 0.8452\n",
      "Epoch 8/10\n",
      "80/80 [==============================] - 9s 109ms/step - loss: 0.2956 - accuracy: 0.8758 - val_loss: 0.3494 - val_accuracy: 0.8401\n",
      "Epoch 9/10\n",
      "80/80 [==============================] - 9s 108ms/step - loss: 0.2748 - accuracy: 0.8940 - val_loss: 0.3004 - val_accuracy: 0.8629\n",
      "Epoch 10/10\n",
      "80/80 [==============================] - 9s 110ms/step - loss: 0.2405 - accuracy: 0.9115 - val_loss: 0.2937 - val_accuracy: 0.8680\n"
     ]
    }
   ],
   "source": [
    "history = model.fit(\n",
    "    train_ds,\n",
    "    epochs=10,\n",
    "    validation_data=test_ds\n",
    ")"
   ]
  },
  {
   "cell_type": "markdown",
   "id": "24cb3280-d850-42b7-9870-3b673e80ba73",
   "metadata": {},
   "source": [
    "### Question 3\n",
    "\n",
    "What is the median of training accuracy for all the epochs for this model?\n",
    "\n",
    "- 0.40\n",
    "- 0.60\n",
    "- 0.90\n",
    "- 0.20"
   ]
  },
  {
   "cell_type": "code",
   "execution_count": 9,
   "id": "cbd34794-7084-474e-a81f-f66e5b93d8d5",
   "metadata": {
    "execution": {
     "iopub.execute_input": "2022-11-21T14:00:44.548924Z",
     "iopub.status.busy": "2022-11-21T14:00:44.548490Z",
     "iopub.status.idle": "2022-11-21T14:00:44.557706Z",
     "shell.execute_reply": "2022-11-21T14:00:44.556828Z",
     "shell.execute_reply.started": "2022-11-21T14:00:44.548887Z"
    },
    "tags": []
   },
   "outputs": [
    {
     "data": {
      "text/plain": [
       "0.8299874663352966"
      ]
     },
     "execution_count": 9,
     "metadata": {},
     "output_type": "execute_result"
    }
   ],
   "source": [
    "np.median(history.history['accuracy'])"
   ]
  },
  {
   "cell_type": "markdown",
   "id": "8a55ce33-f4b4-4962-b7c5-f6c5e71e2e82",
   "metadata": {},
   "source": [
    "### Question 4\n",
    "\n",
    "What is the standard deviation of training loss for all the epochs for this model?\n",
    "\n",
    "- 0.11\n",
    "- 0.66\n",
    "- 0.99\n",
    "- 0.33"
   ]
  },
  {
   "cell_type": "code",
   "execution_count": 10,
   "id": "bcf82e1a-e82d-4044-a95e-9bc729938f5c",
   "metadata": {
    "execution": {
     "iopub.execute_input": "2022-11-21T14:00:44.559364Z",
     "iopub.status.busy": "2022-11-21T14:00:44.558957Z",
     "iopub.status.idle": "2022-11-21T14:00:44.565366Z",
     "shell.execute_reply": "2022-11-21T14:00:44.564532Z",
     "shell.execute_reply.started": "2022-11-21T14:00:44.559331Z"
    },
    "tags": []
   },
   "outputs": [
    {
     "data": {
      "text/plain": [
       "0.15922414719356545"
      ]
     },
     "execution_count": 10,
     "metadata": {},
     "output_type": "execute_result"
    }
   ],
   "source": [
    "np.std(history.history['loss'])"
   ]
  },
  {
   "cell_type": "markdown",
   "id": "3b9b71c4-3af6-4223-b2a2-9b65fc032a74",
   "metadata": {},
   "source": [
    "### Data Augmentation\n",
    "\n",
    "For the next two questions, we'll generate more data using data augmentations. \n",
    "\n",
    "Add the following augmentations to your training data generator:\n",
    "\n",
    "* `rotation_range=40,`\n",
    "* `width_shift_range=0.2,`\n",
    "* `height_shift_range=0.2,`\n",
    "* `shear_range=0.2,`\n",
    "* `zoom_range=0.2,`\n",
    "* `horizontal_flip=True,`\n",
    "* `fill_mode='nearest'`"
   ]
  },
  {
   "cell_type": "code",
   "execution_count": 11,
   "id": "8fa6a6b0-bb72-4c37-a2d2-8373c651fe19",
   "metadata": {
    "execution": {
     "iopub.execute_input": "2022-11-21T14:00:44.567381Z",
     "iopub.status.busy": "2022-11-21T14:00:44.566565Z",
     "iopub.status.idle": "2022-11-21T14:00:44.622539Z",
     "shell.execute_reply": "2022-11-21T14:00:44.621608Z",
     "shell.execute_reply.started": "2022-11-21T14:00:44.567347Z"
    },
    "tags": []
   },
   "outputs": [
    {
     "name": "stdout",
     "output_type": "stream",
     "text": [
      "Found 1594 images belonging to 2 classes.\n"
     ]
    }
   ],
   "source": [
    "train_gen = ImageDataGenerator(\n",
    "    rescale=1./255,\n",
    "    rotation_range=40,\n",
    "    width_shift_range=0.2,\n",
    "    height_shift_range=0.2,\n",
    "    shear_range=0.2,\n",
    "    zoom_range=0.2,\n",
    "    horizontal_flip=True,\n",
    "    fill_mode='nearest'\n",
    ")\n",
    "\n",
    "train_ds = train_gen.flow_from_directory(\n",
    "    'train/',\n",
    "    class_mode='binary',\n",
    "    target_size=(150, 150),\n",
    "    batch_size=20,\n",
    "    shuffle=True\n",
    ")"
   ]
  },
  {
   "cell_type": "code",
   "execution_count": 12,
   "id": "9aa96256-a9cc-469c-960d-7b7e0c6730d6",
   "metadata": {
    "execution": {
     "iopub.execute_input": "2022-11-21T14:00:44.623974Z",
     "iopub.status.busy": "2022-11-21T14:00:44.623647Z",
     "iopub.status.idle": "2022-11-21T14:03:21.021189Z",
     "shell.execute_reply": "2022-11-21T14:03:21.020382Z",
     "shell.execute_reply.started": "2022-11-21T14:00:44.623951Z"
    }
   },
   "outputs": [
    {
     "name": "stdout",
     "output_type": "stream",
     "text": [
      "Epoch 1/10\n",
      "80/80 [==============================] - 16s 198ms/step - loss: 0.4582 - accuracy: 0.7861 - val_loss: 0.3145 - val_accuracy: 0.8553\n",
      "Epoch 2/10\n",
      "80/80 [==============================] - 16s 196ms/step - loss: 0.3966 - accuracy: 0.8174 - val_loss: 0.8495 - val_accuracy: 0.6472\n",
      "Epoch 3/10\n",
      "80/80 [==============================] - 16s 195ms/step - loss: 0.4187 - accuracy: 0.8174 - val_loss: 0.3445 - val_accuracy: 0.8376\n",
      "Epoch 4/10\n",
      "80/80 [==============================] - 16s 195ms/step - loss: 0.4068 - accuracy: 0.8237 - val_loss: 0.3560 - val_accuracy: 0.8249\n",
      "Epoch 5/10\n",
      "80/80 [==============================] - 16s 195ms/step - loss: 0.3880 - accuracy: 0.8262 - val_loss: 0.3137 - val_accuracy: 0.8706\n",
      "Epoch 6/10\n",
      "80/80 [==============================] - 16s 195ms/step - loss: 0.3926 - accuracy: 0.8256 - val_loss: 0.3085 - val_accuracy: 0.8680\n",
      "Epoch 7/10\n",
      "80/80 [==============================] - 15s 192ms/step - loss: 0.3655 - accuracy: 0.8526 - val_loss: 0.3678 - val_accuracy: 0.8249\n",
      "Epoch 8/10\n",
      "80/80 [==============================] - 16s 195ms/step - loss: 0.3752 - accuracy: 0.8394 - val_loss: 0.3498 - val_accuracy: 0.8426\n",
      "Epoch 9/10\n",
      "80/80 [==============================] - 16s 195ms/step - loss: 0.3520 - accuracy: 0.8563 - val_loss: 0.4919 - val_accuracy: 0.7716\n",
      "Epoch 10/10\n",
      "80/80 [==============================] - 16s 194ms/step - loss: 0.3538 - accuracy: 0.8582 - val_loss: 0.6089 - val_accuracy: 0.7614\n"
     ]
    }
   ],
   "source": [
    "history = model.fit(\n",
    "    train_ds,\n",
    "    epochs=10,\n",
    "    validation_data=test_ds\n",
    ")"
   ]
  },
  {
   "cell_type": "markdown",
   "id": "8c24f0dc-6b27-49ad-991b-8574355b0c2f",
   "metadata": {},
   "source": [
    "### Question 5 \n",
    "\n",
    "Let's train our model for 10 more epochs using the same code as previously.\n",
    "Make sure you don't re-create the model - we want to continue training the model\n",
    "we already started training.\n",
    "\n",
    "What is the mean of test loss for all the epochs for the model trained with augmentations?\n",
    "\n",
    "- 0.15\n",
    "- 0.77\n",
    "- 0.37\n",
    "- 0.97"
   ]
  },
  {
   "cell_type": "code",
   "execution_count": 13,
   "id": "d8fec396-2026-4860-a2c4-2a359e93e4a8",
   "metadata": {
    "execution": {
     "iopub.execute_input": "2022-11-21T14:03:21.023252Z",
     "iopub.status.busy": "2022-11-21T14:03:21.022461Z",
     "iopub.status.idle": "2022-11-21T14:03:21.028103Z",
     "shell.execute_reply": "2022-11-21T14:03:21.027319Z",
     "shell.execute_reply.started": "2022-11-21T14:03:21.023224Z"
    }
   },
   "outputs": [
    {
     "data": {
      "text/plain": [
       "0.4305107921361923"
      ]
     },
     "execution_count": 13,
     "metadata": {},
     "output_type": "execute_result"
    }
   ],
   "source": [
    "np.mean(history.history['val_loss'])"
   ]
  },
  {
   "cell_type": "markdown",
   "id": "b15ca771-f5b4-461b-be9c-1acd3cfc9b56",
   "metadata": {},
   "source": [
    "### Question 6\n",
    "\n",
    "What's the average of test accuracy for the last 5 epochs (from 6 to 10)\n",
    "for the model trained with augmentations?\n",
    "\n",
    "- 0.84\n",
    "- 0.54\n",
    "- 0.44\n",
    "- 0.24"
   ]
  },
  {
   "cell_type": "code",
   "execution_count": 14,
   "id": "9f08de8e-d70e-4810-ba33-db20b956bb68",
   "metadata": {
    "execution": {
     "iopub.execute_input": "2022-11-21T14:03:21.030702Z",
     "iopub.status.busy": "2022-11-21T14:03:21.030347Z",
     "iopub.status.idle": "2022-11-21T14:03:21.035199Z",
     "shell.execute_reply": "2022-11-21T14:03:21.034561Z",
     "shell.execute_reply.started": "2022-11-21T14:03:21.030668Z"
    }
   },
   "outputs": [
    {
     "data": {
      "text/plain": [
       "0.8104060828685761"
      ]
     },
     "execution_count": 14,
     "metadata": {},
     "output_type": "execute_result"
    }
   ],
   "source": [
    "np.mean(history.history['val_accuracy'])"
   ]
  },
  {
   "cell_type": "markdown",
   "id": "f99133c5-daae-4ba0-802a-9f80a2af0881",
   "metadata": {},
   "source": [
    "## Submit the results\n",
    "\n",
    "- Submit your results here: https://forms.gle/XdH5ztBddvTvxzpT6\n",
    "- You can submit your solution multiple times. In this case, only the last submission will be used\n",
    "- If your answer doesn't match options exactly, select the closest one"
   ]
  },
  {
   "cell_type": "markdown",
   "id": "6ab1dda6-d4a0-4201-b7d7-bf04ecdf5828",
   "metadata": {},
   "source": [
    "## Deadline\n",
    "\n",
    "The deadline for submitting is 21 November 2022, 23:00 CEST.\n",
    "\n",
    "After that, the form will be closed."
   ]
  }
 ],
 "metadata": {
  "kernelspec": {
   "display_name": "saturn (Python 3)",
   "language": "python",
   "name": "python3"
  },
  "language_info": {
   "codemirror_mode": {
    "name": "ipython",
    "version": 3
   },
   "file_extension": ".py",
   "mimetype": "text/x-python",
   "name": "python",
   "nbconvert_exporter": "python",
   "pygments_lexer": "ipython3",
   "version": "3.9.13"
  }
 },
 "nbformat": 4,
 "nbformat_minor": 5
}
