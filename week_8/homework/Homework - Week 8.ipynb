{
 "cells": [
  {
   "cell_type": "code",
   "execution_count": 1,
   "id": "76ab9a57-6af2-41ef-adbf-93abce110688",
   "metadata": {
    "execution": {
     "iopub.execute_input": "2022-11-21T05:32:20.177291Z",
     "iopub.status.busy": "2022-11-21T05:32:20.176871Z",
     "iopub.status.idle": "2022-11-21T05:32:22.730111Z",
     "shell.execute_reply": "2022-11-21T05:32:22.729468Z",
     "shell.execute_reply.started": "2022-11-21T05:32:20.177225Z"
    }
   },
   "outputs": [
    {
     "name": "stderr",
     "output_type": "stream",
     "text": [
      "2022-11-21 05:32:20.950328: I tensorflow/core/util/util.cc:169] oneDNN custom operations are on. You may see slightly different numerical results due to floating-point round-off errors from different computation orders. To turn them off, set the environment variable `TF_ENABLE_ONEDNN_OPTS=0`.\n"
     ]
    }
   ],
   "source": [
    "import numpy as np\n",
    "import matplotlib.pyplot as plt\n",
    "\n",
    "%matplotlib inline\n",
    "\n",
    "import tensorflow as tf\n",
    "from tensorflow import keras\n",
    "\n",
    "from tensorflow.keras.preprocessing.image import ImageDataGenerator"
   ]
  },
  {
   "cell_type": "markdown",
   "id": "3d9c1f4d-1f42-4d4c-98cd-7f95d6ac791f",
   "metadata": {},
   "source": [
    "## Homework\n",
    "\n",
    "### Dataset\n",
    "\n",
    "In this homework, we'll build a model for predicting if we have an image of a dino or a dragon. For this, we will use the \"Dino or Dragon?\" dataset that can be downloaded from [Kaggle](https://www.kaggle.com/datasets/agrigorev/dino-or-dragon). \n",
    "\n",
    "You can get a wget-able version [here](https://github.com/alexeygrigorev/dino-or-dragon/releases/download/data/dino-dragon.zip):\n",
    "\n",
    "```bash\n",
    "wget https://github.com/alexeygrigorev/dino-or-dragon/releases/download/data/dino-dragon.zip\n",
    "unzip dino-dragon.zip\n",
    "```\n",
    "\n",
    "In the lectures we saw how to use a pre-trained neural network. In the homework, we'll train a much smaller model from scratch. \n",
    "\n",
    "**Note:** You will need an environment with a GPU for this homework. We recommend to use [Saturn Cloud](https://bit.ly/saturn-mlzoomcamp). \n",
    "You can also use a computer without a GPU (e.g. your laptop), but it will be slower."
   ]
  },
  {
   "cell_type": "code",
   "execution_count": 2,
   "id": "9646cc32-6837-4a16-9191-b115ef39d5a6",
   "metadata": {
    "execution": {
     "iopub.execute_input": "2022-11-21T05:32:22.731967Z",
     "iopub.status.busy": "2022-11-21T05:32:22.731553Z",
     "iopub.status.idle": "2022-11-21T05:32:22.735380Z",
     "shell.execute_reply": "2022-11-21T05:32:22.734737Z",
     "shell.execute_reply.started": "2022-11-21T05:32:22.731944Z"
    },
    "tags": []
   },
   "outputs": [],
   "source": [
    "import os"
   ]
  },
  {
   "cell_type": "code",
   "execution_count": 3,
   "id": "2bb31cb1-f80e-43af-a752-4c38c98ec86a",
   "metadata": {
    "execution": {
     "iopub.execute_input": "2022-11-21T05:32:22.736529Z",
     "iopub.status.busy": "2022-11-21T05:32:22.736241Z",
     "iopub.status.idle": "2022-11-21T05:32:22.741255Z",
     "shell.execute_reply": "2022-11-21T05:32:22.740486Z",
     "shell.execute_reply.started": "2022-11-21T05:32:22.736509Z"
    },
    "tags": []
   },
   "outputs": [],
   "source": [
    "if not os.path.isfile('dino-dragon.zip'):\n",
    "    !wget https://github.com/alexeygrigorev/dino-or-dragon/releases/download/data/dino-dragon.zip\n",
    "    !unzip dino-dragon.zip"
   ]
  },
  {
   "cell_type": "markdown",
   "id": "9a5df188-8c73-4c7a-bc4e-6e1bfa0fdf87",
   "metadata": {},
   "source": [
    "### Data Preparation\n",
    "\n",
    "The dataset contains around 1900 images of dinos and around 1900 images of dragons. \n",
    "\n",
    "The dataset contains separate folders for training and test sets. "
   ]
  },
  {
   "cell_type": "markdown",
   "id": "d819b885-868a-43b5-a007-021f178292c1",
   "metadata": {},
   "source": [
    "### Model\n",
    "\n",
    "For this homework we will use Convolutional Neural Network (CNN). Like in the lectures, we'll use Keras.\n",
    "\n",
    "You need to develop the model with following structure:\n",
    "\n",
    "* The shape for input should be `(150, 150, 3)`\n",
    "* Next, create a convolutional layer ([`Conv2D`](https://keras.io/api/layers/convolution_layers/convolution2d/)):\n",
    "    * Use 32 filters\n",
    "    * Kernel size should be `(3, 3)` (that's the size of the filter)\n",
    "    * Use `'relu'` as activation \n",
    "* Reduce the size of the feature map with max pooling ([`MaxPooling2D`](https://keras.io/api/layers/pooling_layers/max_pooling2d/))\n",
    "    * Set the pooling size to `(2, 2)`\n",
    "* Turn the multi-dimensional result into vectors using a [`Flatten`](https://keras.io/api/layers/reshaping_layers/flatten/) layer\n",
    "* Next, add a `Dense` layer with 64 neurons and `'relu'` activation\n",
    "* Finally, create the `Dense` layer with 1 neuron - this will be the output\n",
    "    * The output layer should have an activation - use the appropriate activation for the binary classification case\n",
    "\n",
    "As optimizer use [`SGD`](https://keras.io/api/optimizers/sgd/) with the following parameters:\n",
    "\n",
    "* `SGD(lr=0.002, momentum=0.8)`\n",
    "\n",
    "For clarification about kernel size and max pooling, check [Office Hours](https://www.youtube.com/watch?v=1WRgdBTUaAc)."
   ]
  },
  {
   "cell_type": "code",
   "execution_count": 4,
   "id": "3d4223f3-b366-4c06-872e-81f6b46e812c",
   "metadata": {
    "execution": {
     "iopub.execute_input": "2022-11-21T05:32:22.742297Z",
     "iopub.status.busy": "2022-11-21T05:32:22.742037Z",
     "iopub.status.idle": "2022-11-21T05:32:22.746380Z",
     "shell.execute_reply": "2022-11-21T05:32:22.745736Z",
     "shell.execute_reply.started": "2022-11-21T05:32:22.742277Z"
    },
    "tags": []
   },
   "outputs": [],
   "source": [
    "optimizer = keras.optimizers.SGD(learning_rate=0.002, momentum=0.8)\n",
    "loss = keras.losses.binary_crossentropy\n",
    "input_shape = (150, 150, 3)"
   ]
  },
  {
   "cell_type": "code",
   "execution_count": 5,
   "id": "c990bde4-0fbc-413f-83fe-5c50008bcb32",
   "metadata": {
    "execution": {
     "iopub.execute_input": "2022-11-21T05:32:22.748307Z",
     "iopub.status.busy": "2022-11-21T05:32:22.747986Z",
     "iopub.status.idle": "2022-11-21T05:32:23.767837Z",
     "shell.execute_reply": "2022-11-21T05:32:23.767102Z",
     "shell.execute_reply.started": "2022-11-21T05:32:22.748287Z"
    },
    "tags": []
   },
   "outputs": [
    {
     "name": "stderr",
     "output_type": "stream",
     "text": [
      "2022-11-21 05:32:22.819618: I tensorflow/stream_executor/cuda/cuda_gpu_executor.cc:975] successful NUMA node read from SysFS had negative value (-1), but there must be at least one NUMA node, so returning NUMA node zero\n",
      "2022-11-21 05:32:22.826978: I tensorflow/stream_executor/cuda/cuda_gpu_executor.cc:975] successful NUMA node read from SysFS had negative value (-1), but there must be at least one NUMA node, so returning NUMA node zero\n",
      "2022-11-21 05:32:22.827650: I tensorflow/stream_executor/cuda/cuda_gpu_executor.cc:975] successful NUMA node read from SysFS had negative value (-1), but there must be at least one NUMA node, so returning NUMA node zero\n",
      "2022-11-21 05:32:22.828653: I tensorflow/core/platform/cpu_feature_guard.cc:193] This TensorFlow binary is optimized with oneAPI Deep Neural Network Library (oneDNN) to use the following CPU instructions in performance-critical operations:  AVX2 AVX512F AVX512_VNNI FMA\n",
      "To enable them in other operations, rebuild TensorFlow with the appropriate compiler flags.\n",
      "2022-11-21 05:32:22.829057: I tensorflow/stream_executor/cuda/cuda_gpu_executor.cc:975] successful NUMA node read from SysFS had negative value (-1), but there must be at least one NUMA node, so returning NUMA node zero\n",
      "2022-11-21 05:32:22.829661: I tensorflow/stream_executor/cuda/cuda_gpu_executor.cc:975] successful NUMA node read from SysFS had negative value (-1), but there must be at least one NUMA node, so returning NUMA node zero\n",
      "2022-11-21 05:32:22.830216: I tensorflow/stream_executor/cuda/cuda_gpu_executor.cc:975] successful NUMA node read from SysFS had negative value (-1), but there must be at least one NUMA node, so returning NUMA node zero\n",
      "2022-11-21 05:32:23.466023: I tensorflow/stream_executor/cuda/cuda_gpu_executor.cc:975] successful NUMA node read from SysFS had negative value (-1), but there must be at least one NUMA node, so returning NUMA node zero\n",
      "2022-11-21 05:32:23.466966: I tensorflow/stream_executor/cuda/cuda_gpu_executor.cc:975] successful NUMA node read from SysFS had negative value (-1), but there must be at least one NUMA node, so returning NUMA node zero\n",
      "2022-11-21 05:32:23.467601: I tensorflow/stream_executor/cuda/cuda_gpu_executor.cc:975] successful NUMA node read from SysFS had negative value (-1), but there must be at least one NUMA node, so returning NUMA node zero\n",
      "2022-11-21 05:32:23.468176: I tensorflow/core/common_runtime/gpu/gpu_device.cc:1532] Created device /job:localhost/replica:0/task:0/device:GPU:0 with 13795 MB memory:  -> device: 0, name: Tesla T4, pci bus id: 0000:00:1e.0, compute capability: 7.5\n"
     ]
    }
   ],
   "source": [
    "inputs = keras.Input(shape=input_shape)\n",
    "\n",
    "conv = keras.layers.Conv2D(\n",
    "    filters=32,\n",
    "    kernel_size=(3, 3),\n",
    "    activation='relu'\n",
    ")(inputs)\n",
    "\n",
    "pool = keras.layers.MaxPooling2D(\n",
    "    pool_size=(2, 2)\n",
    ")(conv)\n",
    "\n",
    "flat = keras.layers.Flatten()(pool)\n",
    "dense = keras.layers.Dense(64, activation='relu')(flat)\n",
    "outputs = keras.layers.Dense(1, activation=tf.nn.sigmoid)(dense)\n",
    "\n",
    "model = keras.Model(inputs, outputs)\n",
    "\n",
    "model.compile(\n",
    "    optimizer=optimizer,\n",
    "    loss=loss,\n",
    "    metrics=['accuracy']\n",
    ")"
   ]
  },
  {
   "cell_type": "markdown",
   "id": "804fe383-7101-4842-98bc-824934eea2fb",
   "metadata": {},
   "source": [
    "### Question 1\n",
    "\n",
    "Since we have a binary classification problem, what is the best loss function for us?\n",
    "\n",
    "- `binary crossentropy`\n",
    "- `focal loss`\n",
    "- `mean squared error`\n",
    "- `categorical crossentropy`\n",
    "\n",
    "Note: since we specify an activation for the output layer, we don't need to set `from_logits=True`"
   ]
  },
  {
   "cell_type": "markdown",
   "id": "7d70ebbe-d216-46c1-a7c4-07b1363f97f3",
   "metadata": {},
   "source": [
    "* Binary Crossentropy (focal for cass imbalance, MSE for regression, categorical crossentropy for muti-class)"
   ]
  },
  {
   "cell_type": "markdown",
   "id": "985e81d8-c481-4fb5-8fcb-9d17210e501b",
   "metadata": {},
   "source": [
    "### Question 2\n",
    "\n",
    "What's the total number of parameters of the model? You can use the `summary` method for that. \n",
    "\n",
    "- 9215873\n",
    "- 11215873\n",
    "- 14215873\n",
    "- 19215873"
   ]
  },
  {
   "cell_type": "code",
   "execution_count": 6,
   "id": "5a50c9e9-ac49-4585-a5c4-eb32869a54be",
   "metadata": {
    "execution": {
     "iopub.execute_input": "2022-11-21T05:32:23.769733Z",
     "iopub.status.busy": "2022-11-21T05:32:23.769015Z",
     "iopub.status.idle": "2022-11-21T05:32:23.790792Z",
     "shell.execute_reply": "2022-11-21T05:32:23.790015Z",
     "shell.execute_reply.started": "2022-11-21T05:32:23.769697Z"
    },
    "tags": []
   },
   "outputs": [
    {
     "name": "stdout",
     "output_type": "stream",
     "text": [
      "Model: \"model\"\n",
      "_________________________________________________________________\n",
      " Layer (type)                Output Shape              Param #   \n",
      "=================================================================\n",
      " input_1 (InputLayer)        [(None, 150, 150, 3)]     0         \n",
      "                                                                 \n",
      " conv2d (Conv2D)             (None, 148, 148, 32)      896       \n",
      "                                                                 \n",
      " max_pooling2d (MaxPooling2D  (None, 74, 74, 32)       0         \n",
      " )                                                               \n",
      "                                                                 \n",
      " flatten (Flatten)           (None, 175232)            0         \n",
      "                                                                 \n",
      " dense (Dense)               (None, 64)                11214912  \n",
      "                                                                 \n",
      " dense_1 (Dense)             (None, 1)                 65        \n",
      "                                                                 \n",
      "=================================================================\n",
      "Total params: 11,215,873\n",
      "Trainable params: 11,215,873\n",
      "Non-trainable params: 0\n",
      "_________________________________________________________________\n"
     ]
    }
   ],
   "source": [
    "model.summary()"
   ]
  },
  {
   "cell_type": "markdown",
   "id": "cfe259ea-9340-4bc8-b852-913bd52a465b",
   "metadata": {},
   "source": [
    "### Generators and Training\n",
    "\n",
    "For the next two questions, use the following data generator for both train and test sets:\n",
    "\n",
    "```python\n",
    "ImageDataGenerator(rescale=1./255)\n",
    "```\n",
    "\n",
    "* We don't need to do any additional pre-processing for the images.\n",
    "* When reading the data from train/val directories, check the `class_mode` parameter. Which value should it be for a binary classification problem?\n",
    "* Use `batch_size=20`\n",
    "* Use `shuffle=True` for both training and test sets. \n",
    "\n",
    "For training use `.fit()` with the following params:\n",
    "\n",
    "```python\n",
    "model.fit(\n",
    "    train_generator,\n",
    "    epochs=10,\n",
    "    validation_data=test_generator\n",
    ")\n",
    "```"
   ]
  },
  {
   "cell_type": "code",
   "execution_count": 9,
   "id": "f8c51ee1-e794-49a1-9611-0977eac0d88d",
   "metadata": {
    "execution": {
     "iopub.execute_input": "2022-11-21T05:32:32.648356Z",
     "iopub.status.busy": "2022-11-21T05:32:32.647804Z",
     "iopub.status.idle": "2022-11-21T05:32:32.708814Z",
     "shell.execute_reply": "2022-11-21T05:32:32.708005Z",
     "shell.execute_reply.started": "2022-11-21T05:32:32.648318Z"
    },
    "tags": []
   },
   "outputs": [
    {
     "name": "stdout",
     "output_type": "stream",
     "text": [
      "Found 1594 images belonging to 2 classes.\n",
      "Found 394 images belonging to 2 classes.\n"
     ]
    }
   ],
   "source": [
    "train_gen = ImageDataGenerator(rescale=1./255)\n",
    "test_gen = ImageDataGenerator(rescale=1./255)\n",
    "\n",
    "train_ds = train_gen.flow_from_directory(\n",
    "    'train/',\n",
    "    class_mode='binary',\n",
    "    target_size=(150, 150),\n",
    "    batch_size=20,\n",
    "    shuffle=True\n",
    ")\n",
    "\n",
    "test_ds = train_gen.flow_from_directory(\n",
    "    'test/',\n",
    "    class_mode='binary',\n",
    "    target_size=(150, 150),\n",
    "    batch_size=20,\n",
    "    shuffle=True\n",
    ")"
   ]
  },
  {
   "cell_type": "code",
   "execution_count": 10,
   "id": "70635d9c-447a-4253-8227-fd4148b8c0d4",
   "metadata": {
    "execution": {
     "iopub.execute_input": "2022-11-21T05:32:34.036516Z",
     "iopub.status.busy": "2022-11-21T05:32:34.036121Z",
     "iopub.status.idle": "2022-11-21T05:34:01.603884Z",
     "shell.execute_reply": "2022-11-21T05:34:01.603234Z",
     "shell.execute_reply.started": "2022-11-21T05:32:34.036492Z"
    },
    "tags": []
   },
   "outputs": [
    {
     "name": "stdout",
     "output_type": "stream",
     "text": [
      "Epoch 1/10\n"
     ]
    },
    {
     "name": "stderr",
     "output_type": "stream",
     "text": [
      "2022-11-21 05:32:35.264874: I tensorflow/stream_executor/cuda/cuda_dnn.cc:384] Loaded cuDNN version 8100\n",
      "2022-11-21 05:32:35.914508: I tensorflow/core/platform/default/subprocess.cc:304] Start cannot spawn child process: No such file or directory\n",
      "2022-11-21 05:32:35.915385: I tensorflow/core/platform/default/subprocess.cc:304] Start cannot spawn child process: No such file or directory\n",
      "2022-11-21 05:32:35.915428: W tensorflow/stream_executor/gpu/asm_compiler.cc:80] Couldn't get ptxas version string: INTERNAL: Couldn't invoke ptxas --version\n",
      "2022-11-21 05:32:35.916301: I tensorflow/core/platform/default/subprocess.cc:304] Start cannot spawn child process: No such file or directory\n",
      "2022-11-21 05:32:35.916383: W tensorflow/stream_executor/gpu/redzone_allocator.cc:314] INTERNAL: Failed to launch ptxas\n",
      "Relying on driver to perform ptx compilation. \n",
      "Modify $PATH to customize ptxas location.\n",
      "This message will be only logged once.\n"
     ]
    },
    {
     "name": "stdout",
     "output_type": "stream",
     "text": [
      "80/80 [==============================] - 11s 109ms/step - loss: 0.5782 - accuracy: 0.6863 - val_loss: 0.4531 - val_accuracy: 0.8122\n",
      "Epoch 2/10\n",
      "80/80 [==============================] - 9s 106ms/step - loss: 0.4333 - accuracy: 0.8080 - val_loss: 0.3787 - val_accuracy: 0.8528\n",
      "Epoch 3/10\n",
      "80/80 [==============================] - 8s 106ms/step - loss: 0.3854 - accuracy: 0.8369 - val_loss: 0.3685 - val_accuracy: 0.8401\n",
      "Epoch 4/10\n",
      "80/80 [==============================] - 8s 106ms/step - loss: 0.3317 - accuracy: 0.8645 - val_loss: 0.3390 - val_accuracy: 0.8528\n",
      "Epoch 5/10\n",
      "80/80 [==============================] - 9s 106ms/step - loss: 0.2902 - accuracy: 0.8908 - val_loss: 0.3368 - val_accuracy: 0.8503\n",
      "Epoch 6/10\n",
      "80/80 [==============================] - 8s 105ms/step - loss: 0.2647 - accuracy: 0.8965 - val_loss: 0.3507 - val_accuracy: 0.8376\n",
      "Epoch 7/10\n",
      "80/80 [==============================] - 8s 106ms/step - loss: 0.2353 - accuracy: 0.9090 - val_loss: 0.2987 - val_accuracy: 0.8680\n",
      "Epoch 8/10\n",
      "80/80 [==============================] - 8s 106ms/step - loss: 0.1984 - accuracy: 0.9322 - val_loss: 0.2979 - val_accuracy: 0.8680\n",
      "Epoch 9/10\n",
      "80/80 [==============================] - 8s 106ms/step - loss: 0.1857 - accuracy: 0.9360 - val_loss: 0.3222 - val_accuracy: 0.8629\n",
      "Epoch 10/10\n",
      "80/80 [==============================] - 8s 105ms/step - loss: 0.1748 - accuracy: 0.9354 - val_loss: 0.2866 - val_accuracy: 0.8706\n"
     ]
    }
   ],
   "source": [
    "history = model.fit(\n",
    "    train_ds,\n",
    "    epochs=10,\n",
    "    validation_data=test_ds\n",
    ")"
   ]
  },
  {
   "cell_type": "markdown",
   "id": "24cb3280-d850-42b7-9870-3b673e80ba73",
   "metadata": {},
   "source": [
    "### Question 3\n",
    "\n",
    "What is the median of training accuracy for all the epochs for this model?\n",
    "\n",
    "- 0.40\n",
    "- 0.60\n",
    "- 0.90\n",
    "- 0.20"
   ]
  },
  {
   "cell_type": "code",
   "execution_count": 11,
   "id": "cbd34794-7084-474e-a81f-f66e5b93d8d5",
   "metadata": {
    "execution": {
     "iopub.execute_input": "2022-11-21T05:34:07.521256Z",
     "iopub.status.busy": "2022-11-21T05:34:07.520856Z",
     "iopub.status.idle": "2022-11-21T05:34:07.528002Z",
     "shell.execute_reply": "2022-11-21T05:34:07.527241Z",
     "shell.execute_reply.started": "2022-11-21T05:34:07.521229Z"
    },
    "tags": []
   },
   "outputs": [
    {
     "data": {
      "text/plain": [
       "0.8936637341976166"
      ]
     },
     "execution_count": 11,
     "metadata": {},
     "output_type": "execute_result"
    }
   ],
   "source": [
    "np.median(history.history['accuracy'])"
   ]
  },
  {
   "cell_type": "markdown",
   "id": "8a55ce33-f4b4-4962-b7c5-f6c5e71e2e82",
   "metadata": {},
   "source": [
    "### Question 4\n",
    "\n",
    "What is the standard deviation of training loss for all the epochs for this model?\n",
    "\n",
    "- 0.11\n",
    "- 0.66\n",
    "- 0.99\n",
    "- 0.33"
   ]
  },
  {
   "cell_type": "code",
   "execution_count": 18,
   "id": "bcf82e1a-e82d-4044-a95e-9bc729938f5c",
   "metadata": {
    "execution": {
     "iopub.execute_input": "2022-11-21T05:35:32.355435Z",
     "iopub.status.busy": "2022-11-21T05:35:32.355028Z",
     "iopub.status.idle": "2022-11-21T05:35:32.360954Z",
     "shell.execute_reply": "2022-11-21T05:35:32.360168Z",
     "shell.execute_reply.started": "2022-11-21T05:35:32.355406Z"
    },
    "tags": []
   },
   "outputs": [
    {
     "data": {
      "text/plain": [
       "0.12144276344543038"
      ]
     },
     "execution_count": 18,
     "metadata": {},
     "output_type": "execute_result"
    }
   ],
   "source": [
    "np.std(history.history['loss'])"
   ]
  },
  {
   "cell_type": "markdown",
   "id": "3b9b71c4-3af6-4223-b2a2-9b65fc032a74",
   "metadata": {},
   "source": [
    "### Data Augmentation\n",
    "\n",
    "For the next two questions, we'll generate more data using data augmentations. \n",
    "\n",
    "Add the following augmentations to your training data generator:\n",
    "\n",
    "* `rotation_range=40,`\n",
    "* `width_shift_range=0.2,`\n",
    "* `height_shift_range=0.2,`\n",
    "* `shear_range=0.2,`\n",
    "* `zoom_range=0.2,`\n",
    "* `horizontal_flip=True,`\n",
    "* `fill_mode='nearest'`"
   ]
  },
  {
   "cell_type": "code",
   "execution_count": 21,
   "id": "8fa6a6b0-bb72-4c37-a2d2-8373c651fe19",
   "metadata": {
    "execution": {
     "iopub.execute_input": "2022-11-21T05:40:47.426898Z",
     "iopub.status.busy": "2022-11-21T05:40:47.426025Z",
     "iopub.status.idle": "2022-11-21T05:40:47.471946Z",
     "shell.execute_reply": "2022-11-21T05:40:47.471292Z",
     "shell.execute_reply.started": "2022-11-21T05:40:47.426856Z"
    },
    "tags": []
   },
   "outputs": [
    {
     "name": "stdout",
     "output_type": "stream",
     "text": [
      "Found 1594 images belonging to 2 classes.\n"
     ]
    }
   ],
   "source": [
    "train_gen = ImageDataGenerator(\n",
    "    rescale=1./255,\n",
    "    rotation_range=40,\n",
    "    width_shift_range=0.2,\n",
    "    height_shift_range=0.2,\n",
    "    shear_range=0.2,\n",
    "    zoom_range=0.2,\n",
    "    horizontal_flip=True,\n",
    "    fill_mode='nearest'\n",
    ")\n",
    "\n",
    "train_ds = train_gen.flow_from_directory(\n",
    "    'train/',\n",
    "    class_mode='binary',\n",
    "    target_size=(150, 150),\n",
    "    batch_size=20,\n",
    "    shuffle=True\n",
    ")"
   ]
  },
  {
   "cell_type": "code",
   "execution_count": 22,
   "id": "9aa96256-a9cc-469c-960d-7b7e0c6730d6",
   "metadata": {
    "execution": {
     "iopub.execute_input": "2022-11-21T05:41:15.317177Z",
     "iopub.status.busy": "2022-11-21T05:41:15.316774Z",
     "iopub.status.idle": "2022-11-21T05:43:46.494377Z",
     "shell.execute_reply": "2022-11-21T05:43:46.493717Z",
     "shell.execute_reply.started": "2022-11-21T05:41:15.317150Z"
    }
   },
   "outputs": [
    {
     "name": "stdout",
     "output_type": "stream",
     "text": [
      "Epoch 1/10\n",
      "80/80 [==============================] - 15s 190ms/step - loss: 0.4787 - accuracy: 0.7792 - val_loss: 0.4976 - val_accuracy: 0.7665\n",
      "Epoch 2/10\n",
      "80/80 [==============================] - 15s 190ms/step - loss: 0.4297 - accuracy: 0.7986 - val_loss: 0.2744 - val_accuracy: 0.8782\n",
      "Epoch 3/10\n",
      "80/80 [==============================] - 15s 190ms/step - loss: 0.4110 - accuracy: 0.8162 - val_loss: 0.3424 - val_accuracy: 0.8528\n",
      "Epoch 4/10\n",
      "80/80 [==============================] - 15s 188ms/step - loss: 0.3939 - accuracy: 0.8193 - val_loss: 0.2993 - val_accuracy: 0.8680\n",
      "Epoch 5/10\n",
      "80/80 [==============================] - 15s 189ms/step - loss: 0.3826 - accuracy: 0.8237 - val_loss: 0.3553 - val_accuracy: 0.8477\n",
      "Epoch 6/10\n",
      "80/80 [==============================] - 15s 188ms/step - loss: 0.3691 - accuracy: 0.8331 - val_loss: 0.5256 - val_accuracy: 0.7766\n",
      "Epoch 7/10\n",
      "80/80 [==============================] - 15s 188ms/step - loss: 0.3719 - accuracy: 0.8388 - val_loss: 0.4265 - val_accuracy: 0.8249\n",
      "Epoch 8/10\n",
      "80/80 [==============================] - 15s 188ms/step - loss: 0.3751 - accuracy: 0.8344 - val_loss: 0.5267 - val_accuracy: 0.7843\n",
      "Epoch 9/10\n",
      "80/80 [==============================] - 15s 188ms/step - loss: 0.3737 - accuracy: 0.8319 - val_loss: 0.3588 - val_accuracy: 0.8477\n",
      "Epoch 10/10\n",
      "80/80 [==============================] - 15s 188ms/step - loss: 0.3594 - accuracy: 0.8425 - val_loss: 0.3124 - val_accuracy: 0.8680\n"
     ]
    }
   ],
   "source": [
    "history = model.fit(\n",
    "    train_ds,\n",
    "    epochs=10,\n",
    "    validation_data=test_ds\n",
    ")"
   ]
  },
  {
   "cell_type": "markdown",
   "id": "8c24f0dc-6b27-49ad-991b-8574355b0c2f",
   "metadata": {},
   "source": [
    "### Question 5 \n",
    "\n",
    "Let's train our model for 10 more epochs using the same code as previously.\n",
    "Make sure you don't re-create the model - we want to continue training the model\n",
    "we already started training.\n",
    "\n",
    "What is the mean of test loss for all the epochs for the model trained with augmentations?\n",
    "\n",
    "- 0.15\n",
    "- 0.77\n",
    "- 0.37\n",
    "- 0.97"
   ]
  },
  {
   "cell_type": "code",
   "execution_count": 23,
   "id": "d8fec396-2026-4860-a2c4-2a359e93e4a8",
   "metadata": {
    "execution": {
     "iopub.execute_input": "2022-11-21T05:44:46.060128Z",
     "iopub.status.busy": "2022-11-21T05:44:46.059697Z",
     "iopub.status.idle": "2022-11-21T05:44:46.065292Z",
     "shell.execute_reply": "2022-11-21T05:44:46.064519Z",
     "shell.execute_reply.started": "2022-11-21T05:44:46.060101Z"
    }
   },
   "outputs": [
    {
     "data": {
      "text/plain": [
       "0.39190123677253724"
      ]
     },
     "execution_count": 23,
     "metadata": {},
     "output_type": "execute_result"
    }
   ],
   "source": [
    "np.mean(history.history['val_loss'])"
   ]
  },
  {
   "cell_type": "markdown",
   "id": "b15ca771-f5b4-461b-be9c-1acd3cfc9b56",
   "metadata": {},
   "source": [
    "### Question 6\n",
    "\n",
    "What's the average of test accuracy for the last 5 epochs (from 6 to 10)\n",
    "for the model trained with augmentations?\n",
    "\n",
    "- 0.84\n",
    "- 0.54\n",
    "- 0.44\n",
    "- 0.24"
   ]
  },
  {
   "cell_type": "code",
   "execution_count": 24,
   "id": "9f08de8e-d70e-4810-ba33-db20b956bb68",
   "metadata": {
    "execution": {
     "iopub.execute_input": "2022-11-21T05:45:03.835926Z",
     "iopub.status.busy": "2022-11-21T05:45:03.835522Z",
     "iopub.status.idle": "2022-11-21T05:45:03.841024Z",
     "shell.execute_reply": "2022-11-21T05:45:03.840293Z",
     "shell.execute_reply.started": "2022-11-21T05:45:03.835901Z"
    }
   },
   "outputs": [
    {
     "data": {
      "text/plain": [
       "0.8314720809459686"
      ]
     },
     "execution_count": 24,
     "metadata": {},
     "output_type": "execute_result"
    }
   ],
   "source": [
    "np.mean(history.history['val_accuracy'])"
   ]
  },
  {
   "cell_type": "markdown",
   "id": "f99133c5-daae-4ba0-802a-9f80a2af0881",
   "metadata": {},
   "source": [
    "## Submit the results\n",
    "\n",
    "- Submit your results here: https://forms.gle/XdH5ztBddvTvxzpT6\n",
    "- You can submit your solution multiple times. In this case, only the last submission will be used\n",
    "- If your answer doesn't match options exactly, select the closest one"
   ]
  },
  {
   "cell_type": "markdown",
   "id": "6ab1dda6-d4a0-4201-b7d7-bf04ecdf5828",
   "metadata": {},
   "source": [
    "## Deadline\n",
    "\n",
    "The deadline for submitting is 21 November 2022, 23:00 CEST.\n",
    "\n",
    "After that, the form will be closed."
   ]
  }
 ],
 "metadata": {
  "kernelspec": {
   "display_name": "saturn (Python 3)",
   "language": "python",
   "name": "python3"
  },
  "language_info": {
   "codemirror_mode": {
    "name": "ipython",
    "version": 3
   },
   "file_extension": ".py",
   "mimetype": "text/x-python",
   "name": "python",
   "nbconvert_exporter": "python",
   "pygments_lexer": "ipython3",
   "version": "3.9.13"
  }
 },
 "nbformat": 4,
 "nbformat_minor": 5
}
